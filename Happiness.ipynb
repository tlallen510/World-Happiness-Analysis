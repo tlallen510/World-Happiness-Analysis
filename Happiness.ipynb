{
 "cells": [
  {
   "cell_type": "markdown",
   "metadata": {},
   "source": [
    "# World Happiness Analysis\n",
    "#### By Tom Allen <br>\n",
    "The World Happiness Report is an annual report released by the United Nations, beginning in 2012 to measure overall happiness in the world. It has gained global recognition from governments, non-profits, and other organizations to see what happiness indicators lack in a certain country/region, in order to improve. This analysis will primarily use the 2019 World Happiness Report. "
   ]
  },
  {
   "cell_type": "markdown",
   "metadata": {},
   "source": [
    "### Import Common Libraries"
   ]
  },
  {
   "cell_type": "code",
   "execution_count": 1,
   "metadata": {},
   "outputs": [],
   "source": [
    "import pandas as pd\n",
    "import numpy as np\n",
    "import seaborn as sns\n",
    "import matplotlib.pyplot as plt\n",
    "%matplotlib inline"
   ]
  },
  {
   "cell_type": "markdown",
   "metadata": {},
   "source": [
    "### Import Datasets\n",
    "__df2019:__ contains the 2019 Happiness Report <br>\n",
    "__df2017:__ contains the Dystopia Residual which is not included in df2019 <br>\n",
    "__df2015:__ contains historical comparison data <br>"
   ]
  },
  {
   "cell_type": "code",
   "execution_count": 2,
   "metadata": {},
   "outputs": [],
   "source": [
    "df2019 = pd.read_csv('happiness_2019.csv') \n",
    "df2017 = pd.read_csv('Happiness_2017.csv') \n",
    "df2015 = pd.read_csv('Happiness_2015.csv') "
   ]
  },
  {
   "cell_type": "markdown",
   "metadata": {},
   "source": [
    "### Quick Glance at DataFrames"
   ]
  },
  {
   "cell_type": "code",
   "execution_count": 3,
   "metadata": {},
   "outputs": [
    {
     "data": {
      "text/html": [
       "<div>\n",
       "<style scoped>\n",
       "    .dataframe tbody tr th:only-of-type {\n",
       "        vertical-align: middle;\n",
       "    }\n",
       "\n",
       "    .dataframe tbody tr th {\n",
       "        vertical-align: top;\n",
       "    }\n",
       "\n",
       "    .dataframe thead th {\n",
       "        text-align: right;\n",
       "    }\n",
       "</style>\n",
       "<table border=\"1\" class=\"dataframe\">\n",
       "  <thead>\n",
       "    <tr style=\"text-align: right;\">\n",
       "      <th></th>\n",
       "      <th>Overall rank</th>\n",
       "      <th>Country or region</th>\n",
       "      <th>Score</th>\n",
       "      <th>GDP per capita</th>\n",
       "      <th>Social support</th>\n",
       "      <th>Healthy life expectancy</th>\n",
       "      <th>Freedom to make life choices</th>\n",
       "      <th>Generosity</th>\n",
       "      <th>Perceptions of corruption</th>\n",
       "    </tr>\n",
       "  </thead>\n",
       "  <tbody>\n",
       "    <tr>\n",
       "      <td>0</td>\n",
       "      <td>1</td>\n",
       "      <td>Finland</td>\n",
       "      <td>7.769</td>\n",
       "      <td>1.34</td>\n",
       "      <td>1.587</td>\n",
       "      <td>0.986</td>\n",
       "      <td>0.596</td>\n",
       "      <td>0.153</td>\n",
       "      <td>0.393</td>\n",
       "    </tr>\n",
       "  </tbody>\n",
       "</table>\n",
       "</div>"
      ],
      "text/plain": [
       "   Overall rank Country or region  Score  GDP per capita  Social support  \\\n",
       "0             1           Finland  7.769            1.34           1.587   \n",
       "\n",
       "   Healthy life expectancy  Freedom to make life choices  Generosity  \\\n",
       "0                    0.986                         0.596       0.153   \n",
       "\n",
       "   Perceptions of corruption  \n",
       "0                      0.393  "
      ]
     },
     "execution_count": 3,
     "metadata": {},
     "output_type": "execute_result"
    }
   ],
   "source": [
    "df2019.head(1)"
   ]
  },
  {
   "cell_type": "code",
   "execution_count": 4,
   "metadata": {},
   "outputs": [
    {
     "data": {
      "text/html": [
       "<div>\n",
       "<style scoped>\n",
       "    .dataframe tbody tr th:only-of-type {\n",
       "        vertical-align: middle;\n",
       "    }\n",
       "\n",
       "    .dataframe tbody tr th {\n",
       "        vertical-align: top;\n",
       "    }\n",
       "\n",
       "    .dataframe thead th {\n",
       "        text-align: right;\n",
       "    }\n",
       "</style>\n",
       "<table border=\"1\" class=\"dataframe\">\n",
       "  <thead>\n",
       "    <tr style=\"text-align: right;\">\n",
       "      <th></th>\n",
       "      <th>Country</th>\n",
       "      <th>Happiness.Rank</th>\n",
       "      <th>Happiness.Score</th>\n",
       "      <th>Whisker.high</th>\n",
       "      <th>Whisker.low</th>\n",
       "      <th>Economy..GDP.per.Capita.</th>\n",
       "      <th>Family</th>\n",
       "      <th>Health..Life.Expectancy.</th>\n",
       "      <th>Freedom</th>\n",
       "      <th>Generosity</th>\n",
       "      <th>Trust..Government.Corruption.</th>\n",
       "      <th>Dystopia.Residual</th>\n",
       "    </tr>\n",
       "  </thead>\n",
       "  <tbody>\n",
       "    <tr>\n",
       "      <td>0</td>\n",
       "      <td>Norway</td>\n",
       "      <td>1</td>\n",
       "      <td>7.537</td>\n",
       "      <td>7.594445</td>\n",
       "      <td>7.479556</td>\n",
       "      <td>1.616463</td>\n",
       "      <td>1.533524</td>\n",
       "      <td>0.796667</td>\n",
       "      <td>0.635423</td>\n",
       "      <td>0.362012</td>\n",
       "      <td>0.315964</td>\n",
       "      <td>2.277027</td>\n",
       "    </tr>\n",
       "  </tbody>\n",
       "</table>\n",
       "</div>"
      ],
      "text/plain": [
       "  Country  Happiness.Rank  Happiness.Score  Whisker.high  Whisker.low  \\\n",
       "0  Norway               1            7.537      7.594445     7.479556   \n",
       "\n",
       "   Economy..GDP.per.Capita.    Family  Health..Life.Expectancy.   Freedom  \\\n",
       "0                  1.616463  1.533524                  0.796667  0.635423   \n",
       "\n",
       "   Generosity  Trust..Government.Corruption.  Dystopia.Residual  \n",
       "0    0.362012                       0.315964           2.277027  "
      ]
     },
     "execution_count": 4,
     "metadata": {},
     "output_type": "execute_result"
    }
   ],
   "source": [
    "df2017.head(1)"
   ]
  },
  {
   "cell_type": "code",
   "execution_count": 5,
   "metadata": {},
   "outputs": [
    {
     "data": {
      "text/html": [
       "<div>\n",
       "<style scoped>\n",
       "    .dataframe tbody tr th:only-of-type {\n",
       "        vertical-align: middle;\n",
       "    }\n",
       "\n",
       "    .dataframe tbody tr th {\n",
       "        vertical-align: top;\n",
       "    }\n",
       "\n",
       "    .dataframe thead th {\n",
       "        text-align: right;\n",
       "    }\n",
       "</style>\n",
       "<table border=\"1\" class=\"dataframe\">\n",
       "  <thead>\n",
       "    <tr style=\"text-align: right;\">\n",
       "      <th></th>\n",
       "      <th>Country</th>\n",
       "      <th>Region</th>\n",
       "      <th>Happiness Rank</th>\n",
       "      <th>Happiness Score</th>\n",
       "      <th>Standard Error</th>\n",
       "      <th>Economy (GDP per Capita)</th>\n",
       "      <th>Family</th>\n",
       "      <th>Health (Life Expectancy)</th>\n",
       "      <th>Freedom</th>\n",
       "      <th>Trust (Government Corruption)</th>\n",
       "      <th>Generosity</th>\n",
       "      <th>Dystopia Residual</th>\n",
       "    </tr>\n",
       "  </thead>\n",
       "  <tbody>\n",
       "    <tr>\n",
       "      <td>0</td>\n",
       "      <td>Switzerland</td>\n",
       "      <td>Western Europe</td>\n",
       "      <td>1</td>\n",
       "      <td>7.587</td>\n",
       "      <td>0.03411</td>\n",
       "      <td>1.39651</td>\n",
       "      <td>1.34951</td>\n",
       "      <td>0.94143</td>\n",
       "      <td>0.66557</td>\n",
       "      <td>0.41978</td>\n",
       "      <td>0.29678</td>\n",
       "      <td>2.51738</td>\n",
       "    </tr>\n",
       "  </tbody>\n",
       "</table>\n",
       "</div>"
      ],
      "text/plain": [
       "       Country          Region  Happiness Rank  Happiness Score  \\\n",
       "0  Switzerland  Western Europe               1            7.587   \n",
       "\n",
       "   Standard Error  Economy (GDP per Capita)   Family  \\\n",
       "0         0.03411                   1.39651  1.34951   \n",
       "\n",
       "   Health (Life Expectancy)  Freedom  Trust (Government Corruption)  \\\n",
       "0                   0.94143  0.66557                        0.41978   \n",
       "\n",
       "   Generosity  Dystopia Residual  \n",
       "0     0.29678            2.51738  "
      ]
     },
     "execution_count": 5,
     "metadata": {},
     "output_type": "execute_result"
    }
   ],
   "source": [
    "df2015.head(1)"
   ]
  },
  {
   "cell_type": "markdown",
   "metadata": {},
   "source": [
    "## Data Cleaning <br>\n",
    "### Rename to Simpler Column Names"
   ]
  },
  {
   "cell_type": "code",
   "execution_count": 6,
   "metadata": {},
   "outputs": [],
   "source": [
    "df2019.rename(columns = {'Overall rank':'Rank'}, inplace = True)\n",
    "df2019.rename(columns = {'Country or region':'Country'}, inplace = True)\n",
    "df2019.rename(columns = {'GDP per capita':'GDP'}, inplace = True)\n",
    "df2019.rename(columns = {'Social support':'Soc_Support'}, inplace = True)\n",
    "df2019.rename(columns = {'Healthy life expectancy':'Life_Exp'}, inplace = True)\n",
    "df2019.rename(columns = {'Freedom to make life choices':'Freedom'}, inplace = True)\n",
    "df2019.rename(columns = {'Perceptions of corruption':'Trust'}, inplace = True)"
   ]
  },
  {
   "cell_type": "markdown",
   "metadata": {},
   "source": [
    "### Variables  \n",
    "__Country__ = Name of country   \n",
    "__Rank__ = Rank of the country based on the Happiness Score  \n",
    "__Score__ = Metric measured by surveying people to rate their happiness on a scale 0-10 where 10 is the most happy  \n",
    "__GDP__ = The extent to which GDP contributed to the calculation of the Happiness Score  \n",
    "__Soc_Support__ = The extent to which social support amongst the community contributed to the Happiness Score  \n",
    "__Life_Exp__ = The extent to which life expectancy contributed to the Happiness Score  \n",
    "__Freedom__ = The extenet to which freedom to make life choices contributed to the calculation of the Happiness Score  \n",
    "__Generosity__ = The extent to which genorosity amongst the community contributed to the Happiness Score  \n",
    "__Trust__ = The extent to which trust in the government contributed to the Happiness Score<br>   __Dys_Res__ = The unexplained components when determining the Happiness Score that reflect the country being no worse than a 'Dystopia' (used as a becnchmark)      "
   ]
  },
  {
   "cell_type": "markdown",
   "metadata": {},
   "source": [
    "### Clean df2017 \n",
    "Want __df2017__ to only conatin the Country (the key to eventually merge on) and Dystopia Residual since it isn't present in __df2019__"
   ]
  },
  {
   "cell_type": "code",
   "execution_count": 7,
   "metadata": {},
   "outputs": [],
   "source": [
    "df2017 = df2017[['Country','Dystopia.Residual']]"
   ]
  },
  {
   "cell_type": "markdown",
   "metadata": {},
   "source": [
    "### Create a New DataFrame with the Dystopia Residual \n",
    "Creates a new DataFrame __(df)__ by merging on the key 'Country' in order to add the Dystopia Residual from __df2017__"
   ]
  },
  {
   "cell_type": "code",
   "execution_count": 8,
   "metadata": {},
   "outputs": [],
   "source": [
    "df = pd.merge(df2019, df2017, how = 'inner', on = 'Country')"
   ]
  },
  {
   "cell_type": "markdown",
   "metadata": {},
   "source": [
    "### Add Country Codes to DataFrame\n",
    "__world_GDP__ is a DataFrame containing Country Name, Country Code and GDP (Billions). Using it to add the Country Code to the DataFrame."
   ]
  },
  {
   "cell_type": "code",
   "execution_count": 9,
   "metadata": {},
   "outputs": [],
   "source": [
    "world_GDP = pd.read_csv('2014_World_GDP') \n",
    "world_GDP.rename(columns = {'COUNTRY':'Country'}, inplace = True)\n",
    "world_GDP.drop('GDP (BILLIONS)', axis = 1, inplace = True)"
   ]
  },
  {
   "cell_type": "markdown",
   "metadata": {},
   "source": [
    "### Get Final DataFrame (world) to Analyze On"
   ]
  },
  {
   "cell_type": "code",
   "execution_count": 10,
   "metadata": {},
   "outputs": [
    {
     "data": {
      "text/html": [
       "<div>\n",
       "<style scoped>\n",
       "    .dataframe tbody tr th:only-of-type {\n",
       "        vertical-align: middle;\n",
       "    }\n",
       "\n",
       "    .dataframe tbody tr th {\n",
       "        vertical-align: top;\n",
       "    }\n",
       "\n",
       "    .dataframe thead th {\n",
       "        text-align: right;\n",
       "    }\n",
       "</style>\n",
       "<table border=\"1\" class=\"dataframe\">\n",
       "  <thead>\n",
       "    <tr style=\"text-align: right;\">\n",
       "      <th></th>\n",
       "      <th>Rank</th>\n",
       "      <th>Country</th>\n",
       "      <th>Score</th>\n",
       "      <th>GDP</th>\n",
       "      <th>Soc_Support</th>\n",
       "      <th>Life_Exp</th>\n",
       "      <th>Freedom</th>\n",
       "      <th>Generosity</th>\n",
       "      <th>Trust</th>\n",
       "      <th>Dystopia.Residual</th>\n",
       "      <th>CODE</th>\n",
       "    </tr>\n",
       "  </thead>\n",
       "  <tbody>\n",
       "    <tr>\n",
       "      <td>0</td>\n",
       "      <td>1</td>\n",
       "      <td>Finland</td>\n",
       "      <td>7.769</td>\n",
       "      <td>1.34</td>\n",
       "      <td>1.587</td>\n",
       "      <td>0.986</td>\n",
       "      <td>0.596</td>\n",
       "      <td>0.153</td>\n",
       "      <td>0.393</td>\n",
       "      <td>2.430182</td>\n",
       "      <td>FIN</td>\n",
       "    </tr>\n",
       "  </tbody>\n",
       "</table>\n",
       "</div>"
      ],
      "text/plain": [
       "   Rank  Country  Score   GDP  Soc_Support  Life_Exp  Freedom  Generosity  \\\n",
       "0     1  Finland  7.769  1.34        1.587     0.986    0.596       0.153   \n",
       "\n",
       "   Trust  Dystopia.Residual CODE  \n",
       "0  0.393           2.430182  FIN  "
      ]
     },
     "execution_count": 10,
     "metadata": {},
     "output_type": "execute_result"
    }
   ],
   "source": [
    "world = pd.merge(df, world_GDP, how = 'inner', on = 'Country')\n",
    "world.head(1)"
   ]
  },
  {
   "cell_type": "markdown",
   "metadata": {},
   "source": [
    "### Cleaning the world DataFrame\n",
    "Drops the Score column since the Dystopia Residual is from 2017, so the Score column won't add up."
   ]
  },
  {
   "cell_type": "code",
   "execution_count": 11,
   "metadata": {},
   "outputs": [],
   "source": [
    "world.drop('Score',axis = 1, inplace = True)\n",
    "world.rename(columns = {'Dystopia.Residual':'Dys_Res'}, inplace = True)"
   ]
  },
  {
   "cell_type": "markdown",
   "metadata": {},
   "source": [
    "Re-adds all the factors that contribute to the Score column."
   ]
  },
  {
   "cell_type": "code",
   "execution_count": 12,
   "metadata": {},
   "outputs": [],
   "source": [
    "world['Score'] = world['GDP'] + world['Soc_Support'] + world['Life_Exp']+ world['Freedom'] + world['Generosity'] + world['Trust'] + world['Dys_Res']"
   ]
  },
  {
   "cell_type": "markdown",
   "metadata": {},
   "source": [
    "Drops the Rank column since the rankings need to be readjusted due to the new scores."
   ]
  },
  {
   "cell_type": "code",
   "execution_count": 13,
   "metadata": {},
   "outputs": [],
   "source": [
    "world.drop('Rank', axis = 1, inplace = True)"
   ]
  },
  {
   "cell_type": "markdown",
   "metadata": {},
   "source": [
    "Reorders the __world__ DataFrame by the new ranking based on the Score."
   ]
  },
  {
   "cell_type": "code",
   "execution_count": 14,
   "metadata": {},
   "outputs": [],
   "source": [
    "world['Rank'] = world['Score'].rank(ascending = 0)\n",
    "world['Rank'] = world['Rank'].apply(np.int64)\n",
    "world.sort_values(by = ['Rank'], inplace = True)\n",
    "world.reset_index(inplace = True, drop = True)"
   ]
  },
  {
   "cell_type": "markdown",
   "metadata": {},
   "source": [
    "### Cleaning the df2015 DataFrame \n",
    "Renames the columns in __df2015__ to match the __world__ DataFrame."
   ]
  },
  {
   "cell_type": "code",
   "execution_count": 15,
   "metadata": {},
   "outputs": [],
   "source": [
    "df2015.rename(columns = {'Happiness Rank':'Rank'}, inplace = True)\n",
    "df2015.rename(columns = {'Happiness Score':'Score'}, inplace = True)\n",
    "df2015.rename(columns = {'Economy (GDP per Capita)':'GDP'}, inplace = True)\n",
    "df2015.rename(columns = {'GDP per capita':'GDP'}, inplace = True)\n",
    "df2015.rename(columns = {'Family':'Soc_Support'}, inplace = True)\n",
    "df2015.rename(columns = {'Health (Life Expectancy)':'Life_Exp'}, inplace = True)\n",
    "df2015.rename(columns = {'Dystopia Residual':'Dys_Res'}, inplace = True)\n",
    "df2015.rename(columns = {'Trust (Government Corruption)':'Trust'}, inplace = True)"
   ]
  },
  {
   "cell_type": "markdown",
   "metadata": {},
   "source": [
    "### Create Final df2015 DataFrame\n",
    "Adds the Country Code column from __world_GDP__ and drops irrelevant columns\n"
   ]
  },
  {
   "cell_type": "code",
   "execution_count": 16,
   "metadata": {},
   "outputs": [],
   "source": [
    "df2015 = pd.merge(df2015, world_GDP, how = 'inner', on = 'Country')\n",
    "df2015.drop(['Region','Standard Error'], axis = 1, inplace = True)"
   ]
  },
  {
   "cell_type": "code",
   "execution_count": 17,
   "metadata": {},
   "outputs": [
    {
     "data": {
      "text/html": [
       "<div>\n",
       "<style scoped>\n",
       "    .dataframe tbody tr th:only-of-type {\n",
       "        vertical-align: middle;\n",
       "    }\n",
       "\n",
       "    .dataframe tbody tr th {\n",
       "        vertical-align: top;\n",
       "    }\n",
       "\n",
       "    .dataframe thead th {\n",
       "        text-align: right;\n",
       "    }\n",
       "</style>\n",
       "<table border=\"1\" class=\"dataframe\">\n",
       "  <thead>\n",
       "    <tr style=\"text-align: right;\">\n",
       "      <th></th>\n",
       "      <th>Country</th>\n",
       "      <th>Rank</th>\n",
       "      <th>Score</th>\n",
       "      <th>GDP</th>\n",
       "      <th>Soc_Support</th>\n",
       "      <th>Life_Exp</th>\n",
       "      <th>Freedom</th>\n",
       "      <th>Trust</th>\n",
       "      <th>Generosity</th>\n",
       "      <th>Dys_Res</th>\n",
       "      <th>CODE</th>\n",
       "    </tr>\n",
       "  </thead>\n",
       "  <tbody>\n",
       "    <tr>\n",
       "      <td>0</td>\n",
       "      <td>Switzerland</td>\n",
       "      <td>1</td>\n",
       "      <td>7.587</td>\n",
       "      <td>1.39651</td>\n",
       "      <td>1.34951</td>\n",
       "      <td>0.94143</td>\n",
       "      <td>0.66557</td>\n",
       "      <td>0.41978</td>\n",
       "      <td>0.29678</td>\n",
       "      <td>2.51738</td>\n",
       "      <td>CHE</td>\n",
       "    </tr>\n",
       "    <tr>\n",
       "      <td>1</td>\n",
       "      <td>Iceland</td>\n",
       "      <td>2</td>\n",
       "      <td>7.561</td>\n",
       "      <td>1.30232</td>\n",
       "      <td>1.40223</td>\n",
       "      <td>0.94784</td>\n",
       "      <td>0.62877</td>\n",
       "      <td>0.14145</td>\n",
       "      <td>0.43630</td>\n",
       "      <td>2.70201</td>\n",
       "      <td>ISL</td>\n",
       "    </tr>\n",
       "    <tr>\n",
       "      <td>2</td>\n",
       "      <td>Denmark</td>\n",
       "      <td>3</td>\n",
       "      <td>7.527</td>\n",
       "      <td>1.32548</td>\n",
       "      <td>1.36058</td>\n",
       "      <td>0.87464</td>\n",
       "      <td>0.64938</td>\n",
       "      <td>0.48357</td>\n",
       "      <td>0.34139</td>\n",
       "      <td>2.49204</td>\n",
       "      <td>DNK</td>\n",
       "    </tr>\n",
       "    <tr>\n",
       "      <td>3</td>\n",
       "      <td>Norway</td>\n",
       "      <td>4</td>\n",
       "      <td>7.522</td>\n",
       "      <td>1.45900</td>\n",
       "      <td>1.33095</td>\n",
       "      <td>0.88521</td>\n",
       "      <td>0.66973</td>\n",
       "      <td>0.36503</td>\n",
       "      <td>0.34699</td>\n",
       "      <td>2.46531</td>\n",
       "      <td>NOR</td>\n",
       "    </tr>\n",
       "    <tr>\n",
       "      <td>4</td>\n",
       "      <td>Canada</td>\n",
       "      <td>5</td>\n",
       "      <td>7.427</td>\n",
       "      <td>1.32629</td>\n",
       "      <td>1.32261</td>\n",
       "      <td>0.90563</td>\n",
       "      <td>0.63297</td>\n",
       "      <td>0.32957</td>\n",
       "      <td>0.45811</td>\n",
       "      <td>2.45176</td>\n",
       "      <td>CAN</td>\n",
       "    </tr>\n",
       "  </tbody>\n",
       "</table>\n",
       "</div>"
      ],
      "text/plain": [
       "       Country  Rank  Score      GDP  Soc_Support  Life_Exp  Freedom    Trust  \\\n",
       "0  Switzerland     1  7.587  1.39651      1.34951   0.94143  0.66557  0.41978   \n",
       "1      Iceland     2  7.561  1.30232      1.40223   0.94784  0.62877  0.14145   \n",
       "2      Denmark     3  7.527  1.32548      1.36058   0.87464  0.64938  0.48357   \n",
       "3       Norway     4  7.522  1.45900      1.33095   0.88521  0.66973  0.36503   \n",
       "4       Canada     5  7.427  1.32629      1.32261   0.90563  0.63297  0.32957   \n",
       "\n",
       "   Generosity  Dys_Res CODE  \n",
       "0     0.29678  2.51738  CHE  \n",
       "1     0.43630  2.70201  ISL  \n",
       "2     0.34139  2.49204  DNK  \n",
       "3     0.34699  2.46531  NOR  \n",
       "4     0.45811  2.45176  CAN  "
      ]
     },
     "execution_count": 17,
     "metadata": {},
     "output_type": "execute_result"
    }
   ],
   "source": [
    "df2015.head()"
   ]
  },
  {
   "cell_type": "markdown",
   "metadata": {},
   "source": [
    "## Data Visualizations"
   ]
  },
  {
   "cell_type": "markdown",
   "metadata": {},
   "source": [
    "### World Happiness Map\n",
    "Cool interactive map to see what countries/regions are the most happy. __Would only be able to view if copied and ran in a Jupyter Notebook__"
   ]
  },
  {
   "cell_type": "code",
   "execution_count": 18,
   "metadata": {},
   "outputs": [
    {
     "data": {
      "text/html": [
       "        <script type=\"text/javascript\">\n",
       "        window.PlotlyConfig = {MathJaxConfig: 'local'};\n",
       "        if (window.MathJax) {MathJax.Hub.Config({SVG: {font: \"STIX-Web\"}});}\n",
       "        if (typeof require !== 'undefined') {\n",
       "        require.undef(\"plotly\");\n",
       "        requirejs.config({\n",
       "            paths: {\n",
       "                'plotly': ['https://cdn.plot.ly/plotly-latest.min']\n",
       "            }\n",
       "        });\n",
       "        require(['plotly'], function(Plotly) {\n",
       "            window._Plotly = Plotly;\n",
       "        });\n",
       "        }\n",
       "        </script>\n",
       "        "
      ]
     },
     "metadata": {},
     "output_type": "display_data"
    }
   ],
   "source": [
    "import plotly.graph_objs as go\n",
    "from plotly.offline import download_plotlyjs, init_notebook_mode, plot, iplot\n",
    "init_notebook_mode(connected=True)"
   ]
  },
  {
   "cell_type": "code",
   "execution_count": 19,
   "metadata": {},
   "outputs": [],
   "source": [
    "world_happy = dict(type = 'choropleth', locations = world['CODE'], z = world['Score'], \n",
    "                      text = world['Country'], colorbar = {'title' : 'Happiness Score'},)"
   ]
  },
  {
   "cell_type": "code",
   "execution_count": 20,
   "metadata": {},
   "outputs": [],
   "source": [
    "layout = dict(title = 'Happiness Score by Country', geo = dict(showframe = False, projection = {'type':'mercator'}))"
   ]
  },
  {
   "cell_type": "code",
   "execution_count": 21,
   "metadata": {},
   "outputs": [
    {
     "data": {
      "application/vnd.plotly.v1+json": {
       "config": {
        "linkText": "Export to plot.ly",
        "plotlyServerURL": "https://plot.ly",
        "showLink": false
       },
       "data": [
        {
         "colorbar": {
          "title": {
           "text": "Happiness Score"
          }
         },
         "locations": [
          "NOR",
          "DNK",
          "FIN",
          "CHE",
          "ISL",
          "NLD",
          "ISR",
          "CAN",
          "NZL",
          "AUS",
          "SWE",
          "CRI",
          "AUT",
          "IRL",
          "DEU",
          "USA",
          "BEL",
          "LUX",
          "SGP",
          "MEX",
          "CZE",
          "GBR",
          "ARG",
          "BRA",
          "FRA",
          "CHL",
          "GTM",
          "PAN",
          "MLT",
          "COL",
          "URY",
          "ARE",
          "ESP",
          "SAU",
          "THA",
          "SVK",
          "LTU",
          "BHR",
          "SLV",
          "NIC",
          "ECU",
          "ITA",
          "UZB",
          "MYS",
          "RUS",
          "KWT",
          "MDA",
          "POL",
          "QAT",
          "ROU",
          "LVA",
          "PER",
          "JPN",
          "KAZ",
          "BOL",
          "SVN",
          "MUS",
          "DZA",
          "CYP",
          "EST",
          "TKM",
          "SRB",
          "KSV",
          "HRV",
          "TUR",
          "HND",
          "PRY",
          "LBY",
          "PAK",
          "BLR",
          "PHL",
          "CHN",
          "HUN",
          "MNE",
          "JAM",
          "BIH",
          "MAR",
          "PRT",
          "JOR",
          "AZE",
          "VEN",
          "IDN",
          "DOM",
          "GRC",
          "VNM",
          "SOM",
          "LBN",
          "NGA",
          "KGZ",
          "NPL",
          "BGD",
          "IRN",
          "TJK",
          "TUN",
          "BTN",
          "ZAF",
          "MNG",
          "BGR",
          "MOZ",
          "ALB",
          "CMR",
          "ARM",
          "EGY",
          "NAM",
          "ZMB",
          "SLE",
          "KEN",
          "ETH",
          "GAB",
          "SEN",
          "IND",
          "IRQ",
          "GEO",
          "KHM",
          "LKA",
          "GHA",
          "UKR",
          "MRT",
          "ZWE",
          "MWI",
          "BFA",
          "UGA",
          "MLI",
          "TCD",
          "LSO",
          "GIN",
          "NER",
          "LBR",
          "BEN",
          "HTI",
          "MDG",
          "BWA",
          "TGO",
          "YEM",
          "AFG",
          "RWA",
          "SSD",
          "TZA",
          "BDI",
          "SYR",
          "CAF"
         ],
         "text": [
          "Norway",
          "Denmark",
          "Finland",
          "Switzerland",
          "Iceland",
          "Netherlands",
          "Israel",
          "Canada",
          "New Zealand",
          "Australia",
          "Sweden",
          "Costa Rica",
          "Austria",
          "Ireland",
          "Germany",
          "United States",
          "Belgium",
          "Luxembourg",
          "Singapore",
          "Mexico",
          "Czech Republic",
          "United Kingdom",
          "Argentina",
          "Brazil",
          "France",
          "Chile",
          "Guatemala",
          "Panama",
          "Malta",
          "Colombia",
          "Uruguay",
          "United Arab Emirates",
          "Spain",
          "Saudi Arabia",
          "Thailand",
          "Slovakia",
          "Lithuania",
          "Bahrain",
          "El Salvador",
          "Nicaragua",
          "Ecuador",
          "Italy",
          "Uzbekistan",
          "Malaysia",
          "Russia",
          "Kuwait",
          "Moldova",
          "Poland",
          "Qatar",
          "Romania",
          "Latvia",
          "Peru",
          "Japan",
          "Kazakhstan",
          "Bolivia",
          "Slovenia",
          "Mauritius",
          "Algeria",
          "Cyprus",
          "Estonia",
          "Turkmenistan",
          "Serbia",
          "Kosovo",
          "Croatia",
          "Turkey",
          "Honduras",
          "Paraguay",
          "Libya",
          "Pakistan",
          "Belarus",
          "Philippines",
          "China",
          "Hungary",
          "Montenegro",
          "Jamaica",
          "Bosnia and Herzegovina",
          "Morocco",
          "Portugal",
          "Jordan",
          "Azerbaijan",
          "Venezuela",
          "Indonesia",
          "Dominican Republic",
          "Greece",
          "Vietnam",
          "Somalia",
          "Lebanon",
          "Nigeria",
          "Kyrgyzstan",
          "Nepal",
          "Bangladesh",
          "Iran",
          "Tajikistan",
          "Tunisia",
          "Bhutan",
          "South Africa",
          "Mongolia",
          "Bulgaria",
          "Mozambique",
          "Albania",
          "Cameroon",
          "Armenia",
          "Egypt",
          "Namibia",
          "Zambia",
          "Sierra Leone",
          "Kenya",
          "Ethiopia",
          "Gabon",
          "Senegal",
          "India",
          "Iraq",
          "Georgia",
          "Cambodia",
          "Sri Lanka",
          "Ghana",
          "Ukraine",
          "Mauritania",
          "Zimbabwe",
          "Malawi",
          "Burkina Faso",
          "Uganda",
          "Mali",
          "Chad",
          "Lesotho",
          "Guinea",
          "Niger",
          "Liberia",
          "Benin",
          "Haiti",
          "Madagascar",
          "Botswana",
          "Togo",
          "Yemen",
          "Afghanistan",
          "Rwanda",
          "South Sudan",
          "Tanzania",
          "Burundi",
          "Syria",
          "Central African Republic"
         ],
         "type": "choropleth",
         "z": [
          7.59002665328979,
          7.51970735168457,
          7.4851815032959,
          7.4847162322997995,
          7.415715282440191,
          7.38880409622192,
          7.27575733566284,
          7.27326444244385,
          7.2274563369751,
          7.200210819244379,
          7.1945379943847705,
          7.13163920211792,
          7.0075064125061,
          6.94886903762817,
          6.85076995849609,
          6.8441134223938,
          6.81321035766602,
          6.7555120811462395,
          6.67236199951172,
          6.67115486526489,
          6.66686185836792,
          6.64714352416992,
          6.60600532722473,
          6.589267082214359,
          6.57695474243164,
          6.557585857391359,
          6.49689109611511,
          6.48719995498657,
          6.46586283111572,
          6.45506812477112,
          6.45240953445435,
          6.414703540802,
          6.3537577400207494,
          6.2714296874999995,
          6.270508342742919,
          6.19777665138245,
          6.17544052314758,
          6.158149387359621,
          6.1365938873291,
          6.12993055915833,
          6.093352582931519,
          6.053312053680421,
          6.03991360473633,
          6.016448890686039,
          6.01360741424561,
          5.999425205230711,
          5.98580839920044,
          5.9757228164672895,
          5.9554644203186,
          5.945831483840941,
          5.860655204772951,
          5.860269430160521,
          5.85122355270386,
          5.84689255905151,
          5.84627902793884,
          5.812317298889161,
          5.7905839138031,
          5.78760382652283,
          5.78624919891357,
          5.75550865936279,
          5.7459098224639895,
          5.64608442687988,
          5.639540723800659,
          5.62649242591858,
          5.61427794456482,
          5.60281115722656,
          5.5703334903717,
          5.5560112438201905,
          5.52148929023743,
          5.51523298454285,
          5.51160475158691,
          5.490938592910769,
          5.455459274291989,
          5.43119154167175,
          5.37732566833496,
          5.37517257499695,
          5.35118939399719,
          5.3386827049255405,
          5.29117655754089,
          5.289481689453121,
          5.24646375846863,
          5.240476976394651,
          5.22546516036987,
          5.18622156333923,
          5.163318658828739,
          5.15548456954956,
          5.13007384300232,
          5.09939053916931,
          5.07972313690186,
          5.0532410736084,
          5.02773616218567,
          4.92573495101929,
          4.92104932975769,
          4.90725115966797,
          4.87218440246582,
          4.864908603668209,
          4.84729236221313,
          4.812139287948608,
          4.764650901794431,
          4.74744156074524,
          4.7286455821991,
          4.6834991569519,
          4.68216107368469,
          4.677890201568601,
          4.65370545578003,
          4.62545989227295,
          4.5839021987915,
          4.56974373245239,
          4.526916269302371,
          4.46164614868164,
          4.4101171169281,
          4.39390726089478,
          4.35713780593872,
          4.27894109344482,
          4.225389247894286,
          4.2088675079345705,
          4.138382314682007,
          4.13763731575012,
          4.11197024726868,
          4.0777861557006805,
          4.03921290588379,
          4.038362657547,
          3.99819095611572,
          3.8292380409240696,
          3.81483531951904,
          3.76131189727783,
          3.75998338317871,
          3.7472859611511202,
          3.71863096523285,
          3.71216763496399,
          3.68761260795593,
          3.6819137134552,
          3.6492292518615703,
          3.58660060501099,
          3.56180118179321,
          3.407061235427856,
          3.35856738471985,
          3.321130466461182,
          3.1320241680145298,
          2.9835735054016097,
          2.6920047531127897
         ]
        }
       ],
       "layout": {
        "geo": {
         "projection": {
          "type": "mercator"
         },
         "showframe": false
        },
        "template": {
         "data": {
          "bar": [
           {
            "error_x": {
             "color": "#2a3f5f"
            },
            "error_y": {
             "color": "#2a3f5f"
            },
            "marker": {
             "line": {
              "color": "#E5ECF6",
              "width": 0.5
             }
            },
            "type": "bar"
           }
          ],
          "barpolar": [
           {
            "marker": {
             "line": {
              "color": "#E5ECF6",
              "width": 0.5
             }
            },
            "type": "barpolar"
           }
          ],
          "carpet": [
           {
            "aaxis": {
             "endlinecolor": "#2a3f5f",
             "gridcolor": "white",
             "linecolor": "white",
             "minorgridcolor": "white",
             "startlinecolor": "#2a3f5f"
            },
            "baxis": {
             "endlinecolor": "#2a3f5f",
             "gridcolor": "white",
             "linecolor": "white",
             "minorgridcolor": "white",
             "startlinecolor": "#2a3f5f"
            },
            "type": "carpet"
           }
          ],
          "choropleth": [
           {
            "colorbar": {
             "outlinewidth": 0,
             "ticks": ""
            },
            "type": "choropleth"
           }
          ],
          "contour": [
           {
            "colorbar": {
             "outlinewidth": 0,
             "ticks": ""
            },
            "colorscale": [
             [
              0,
              "#0d0887"
             ],
             [
              0.1111111111111111,
              "#46039f"
             ],
             [
              0.2222222222222222,
              "#7201a8"
             ],
             [
              0.3333333333333333,
              "#9c179e"
             ],
             [
              0.4444444444444444,
              "#bd3786"
             ],
             [
              0.5555555555555556,
              "#d8576b"
             ],
             [
              0.6666666666666666,
              "#ed7953"
             ],
             [
              0.7777777777777778,
              "#fb9f3a"
             ],
             [
              0.8888888888888888,
              "#fdca26"
             ],
             [
              1,
              "#f0f921"
             ]
            ],
            "type": "contour"
           }
          ],
          "contourcarpet": [
           {
            "colorbar": {
             "outlinewidth": 0,
             "ticks": ""
            },
            "type": "contourcarpet"
           }
          ],
          "heatmap": [
           {
            "colorbar": {
             "outlinewidth": 0,
             "ticks": ""
            },
            "colorscale": [
             [
              0,
              "#0d0887"
             ],
             [
              0.1111111111111111,
              "#46039f"
             ],
             [
              0.2222222222222222,
              "#7201a8"
             ],
             [
              0.3333333333333333,
              "#9c179e"
             ],
             [
              0.4444444444444444,
              "#bd3786"
             ],
             [
              0.5555555555555556,
              "#d8576b"
             ],
             [
              0.6666666666666666,
              "#ed7953"
             ],
             [
              0.7777777777777778,
              "#fb9f3a"
             ],
             [
              0.8888888888888888,
              "#fdca26"
             ],
             [
              1,
              "#f0f921"
             ]
            ],
            "type": "heatmap"
           }
          ],
          "heatmapgl": [
           {
            "colorbar": {
             "outlinewidth": 0,
             "ticks": ""
            },
            "colorscale": [
             [
              0,
              "#0d0887"
             ],
             [
              0.1111111111111111,
              "#46039f"
             ],
             [
              0.2222222222222222,
              "#7201a8"
             ],
             [
              0.3333333333333333,
              "#9c179e"
             ],
             [
              0.4444444444444444,
              "#bd3786"
             ],
             [
              0.5555555555555556,
              "#d8576b"
             ],
             [
              0.6666666666666666,
              "#ed7953"
             ],
             [
              0.7777777777777778,
              "#fb9f3a"
             ],
             [
              0.8888888888888888,
              "#fdca26"
             ],
             [
              1,
              "#f0f921"
             ]
            ],
            "type": "heatmapgl"
           }
          ],
          "histogram": [
           {
            "marker": {
             "colorbar": {
              "outlinewidth": 0,
              "ticks": ""
             }
            },
            "type": "histogram"
           }
          ],
          "histogram2d": [
           {
            "colorbar": {
             "outlinewidth": 0,
             "ticks": ""
            },
            "colorscale": [
             [
              0,
              "#0d0887"
             ],
             [
              0.1111111111111111,
              "#46039f"
             ],
             [
              0.2222222222222222,
              "#7201a8"
             ],
             [
              0.3333333333333333,
              "#9c179e"
             ],
             [
              0.4444444444444444,
              "#bd3786"
             ],
             [
              0.5555555555555556,
              "#d8576b"
             ],
             [
              0.6666666666666666,
              "#ed7953"
             ],
             [
              0.7777777777777778,
              "#fb9f3a"
             ],
             [
              0.8888888888888888,
              "#fdca26"
             ],
             [
              1,
              "#f0f921"
             ]
            ],
            "type": "histogram2d"
           }
          ],
          "histogram2dcontour": [
           {
            "colorbar": {
             "outlinewidth": 0,
             "ticks": ""
            },
            "colorscale": [
             [
              0,
              "#0d0887"
             ],
             [
              0.1111111111111111,
              "#46039f"
             ],
             [
              0.2222222222222222,
              "#7201a8"
             ],
             [
              0.3333333333333333,
              "#9c179e"
             ],
             [
              0.4444444444444444,
              "#bd3786"
             ],
             [
              0.5555555555555556,
              "#d8576b"
             ],
             [
              0.6666666666666666,
              "#ed7953"
             ],
             [
              0.7777777777777778,
              "#fb9f3a"
             ],
             [
              0.8888888888888888,
              "#fdca26"
             ],
             [
              1,
              "#f0f921"
             ]
            ],
            "type": "histogram2dcontour"
           }
          ],
          "mesh3d": [
           {
            "colorbar": {
             "outlinewidth": 0,
             "ticks": ""
            },
            "type": "mesh3d"
           }
          ],
          "parcoords": [
           {
            "line": {
             "colorbar": {
              "outlinewidth": 0,
              "ticks": ""
             }
            },
            "type": "parcoords"
           }
          ],
          "pie": [
           {
            "automargin": true,
            "type": "pie"
           }
          ],
          "scatter": [
           {
            "marker": {
             "colorbar": {
              "outlinewidth": 0,
              "ticks": ""
             }
            },
            "type": "scatter"
           }
          ],
          "scatter3d": [
           {
            "line": {
             "colorbar": {
              "outlinewidth": 0,
              "ticks": ""
             }
            },
            "marker": {
             "colorbar": {
              "outlinewidth": 0,
              "ticks": ""
             }
            },
            "type": "scatter3d"
           }
          ],
          "scattercarpet": [
           {
            "marker": {
             "colorbar": {
              "outlinewidth": 0,
              "ticks": ""
             }
            },
            "type": "scattercarpet"
           }
          ],
          "scattergeo": [
           {
            "marker": {
             "colorbar": {
              "outlinewidth": 0,
              "ticks": ""
             }
            },
            "type": "scattergeo"
           }
          ],
          "scattergl": [
           {
            "marker": {
             "colorbar": {
              "outlinewidth": 0,
              "ticks": ""
             }
            },
            "type": "scattergl"
           }
          ],
          "scattermapbox": [
           {
            "marker": {
             "colorbar": {
              "outlinewidth": 0,
              "ticks": ""
             }
            },
            "type": "scattermapbox"
           }
          ],
          "scatterpolar": [
           {
            "marker": {
             "colorbar": {
              "outlinewidth": 0,
              "ticks": ""
             }
            },
            "type": "scatterpolar"
           }
          ],
          "scatterpolargl": [
           {
            "marker": {
             "colorbar": {
              "outlinewidth": 0,
              "ticks": ""
             }
            },
            "type": "scatterpolargl"
           }
          ],
          "scatterternary": [
           {
            "marker": {
             "colorbar": {
              "outlinewidth": 0,
              "ticks": ""
             }
            },
            "type": "scatterternary"
           }
          ],
          "surface": [
           {
            "colorbar": {
             "outlinewidth": 0,
             "ticks": ""
            },
            "colorscale": [
             [
              0,
              "#0d0887"
             ],
             [
              0.1111111111111111,
              "#46039f"
             ],
             [
              0.2222222222222222,
              "#7201a8"
             ],
             [
              0.3333333333333333,
              "#9c179e"
             ],
             [
              0.4444444444444444,
              "#bd3786"
             ],
             [
              0.5555555555555556,
              "#d8576b"
             ],
             [
              0.6666666666666666,
              "#ed7953"
             ],
             [
              0.7777777777777778,
              "#fb9f3a"
             ],
             [
              0.8888888888888888,
              "#fdca26"
             ],
             [
              1,
              "#f0f921"
             ]
            ],
            "type": "surface"
           }
          ],
          "table": [
           {
            "cells": {
             "fill": {
              "color": "#EBF0F8"
             },
             "line": {
              "color": "white"
             }
            },
            "header": {
             "fill": {
              "color": "#C8D4E3"
             },
             "line": {
              "color": "white"
             }
            },
            "type": "table"
           }
          ]
         },
         "layout": {
          "annotationdefaults": {
           "arrowcolor": "#2a3f5f",
           "arrowhead": 0,
           "arrowwidth": 1
          },
          "coloraxis": {
           "colorbar": {
            "outlinewidth": 0,
            "ticks": ""
           }
          },
          "colorscale": {
           "diverging": [
            [
             0,
             "#8e0152"
            ],
            [
             0.1,
             "#c51b7d"
            ],
            [
             0.2,
             "#de77ae"
            ],
            [
             0.3,
             "#f1b6da"
            ],
            [
             0.4,
             "#fde0ef"
            ],
            [
             0.5,
             "#f7f7f7"
            ],
            [
             0.6,
             "#e6f5d0"
            ],
            [
             0.7,
             "#b8e186"
            ],
            [
             0.8,
             "#7fbc41"
            ],
            [
             0.9,
             "#4d9221"
            ],
            [
             1,
             "#276419"
            ]
           ],
           "sequential": [
            [
             0,
             "#0d0887"
            ],
            [
             0.1111111111111111,
             "#46039f"
            ],
            [
             0.2222222222222222,
             "#7201a8"
            ],
            [
             0.3333333333333333,
             "#9c179e"
            ],
            [
             0.4444444444444444,
             "#bd3786"
            ],
            [
             0.5555555555555556,
             "#d8576b"
            ],
            [
             0.6666666666666666,
             "#ed7953"
            ],
            [
             0.7777777777777778,
             "#fb9f3a"
            ],
            [
             0.8888888888888888,
             "#fdca26"
            ],
            [
             1,
             "#f0f921"
            ]
           ],
           "sequentialminus": [
            [
             0,
             "#0d0887"
            ],
            [
             0.1111111111111111,
             "#46039f"
            ],
            [
             0.2222222222222222,
             "#7201a8"
            ],
            [
             0.3333333333333333,
             "#9c179e"
            ],
            [
             0.4444444444444444,
             "#bd3786"
            ],
            [
             0.5555555555555556,
             "#d8576b"
            ],
            [
             0.6666666666666666,
             "#ed7953"
            ],
            [
             0.7777777777777778,
             "#fb9f3a"
            ],
            [
             0.8888888888888888,
             "#fdca26"
            ],
            [
             1,
             "#f0f921"
            ]
           ]
          },
          "colorway": [
           "#636efa",
           "#EF553B",
           "#00cc96",
           "#ab63fa",
           "#FFA15A",
           "#19d3f3",
           "#FF6692",
           "#B6E880",
           "#FF97FF",
           "#FECB52"
          ],
          "font": {
           "color": "#2a3f5f"
          },
          "geo": {
           "bgcolor": "white",
           "lakecolor": "white",
           "landcolor": "#E5ECF6",
           "showlakes": true,
           "showland": true,
           "subunitcolor": "white"
          },
          "hoverlabel": {
           "align": "left"
          },
          "hovermode": "closest",
          "mapbox": {
           "style": "light"
          },
          "paper_bgcolor": "white",
          "plot_bgcolor": "#E5ECF6",
          "polar": {
           "angularaxis": {
            "gridcolor": "white",
            "linecolor": "white",
            "ticks": ""
           },
           "bgcolor": "#E5ECF6",
           "radialaxis": {
            "gridcolor": "white",
            "linecolor": "white",
            "ticks": ""
           }
          },
          "scene": {
           "xaxis": {
            "backgroundcolor": "#E5ECF6",
            "gridcolor": "white",
            "gridwidth": 2,
            "linecolor": "white",
            "showbackground": true,
            "ticks": "",
            "zerolinecolor": "white"
           },
           "yaxis": {
            "backgroundcolor": "#E5ECF6",
            "gridcolor": "white",
            "gridwidth": 2,
            "linecolor": "white",
            "showbackground": true,
            "ticks": "",
            "zerolinecolor": "white"
           },
           "zaxis": {
            "backgroundcolor": "#E5ECF6",
            "gridcolor": "white",
            "gridwidth": 2,
            "linecolor": "white",
            "showbackground": true,
            "ticks": "",
            "zerolinecolor": "white"
           }
          },
          "shapedefaults": {
           "line": {
            "color": "#2a3f5f"
           }
          },
          "ternary": {
           "aaxis": {
            "gridcolor": "white",
            "linecolor": "white",
            "ticks": ""
           },
           "baxis": {
            "gridcolor": "white",
            "linecolor": "white",
            "ticks": ""
           },
           "bgcolor": "#E5ECF6",
           "caxis": {
            "gridcolor": "white",
            "linecolor": "white",
            "ticks": ""
           }
          },
          "title": {
           "x": 0.05
          },
          "xaxis": {
           "automargin": true,
           "gridcolor": "white",
           "linecolor": "white",
           "ticks": "",
           "title": {
            "standoff": 15
           },
           "zerolinecolor": "white",
           "zerolinewidth": 2
          },
          "yaxis": {
           "automargin": true,
           "gridcolor": "white",
           "linecolor": "white",
           "ticks": "",
           "title": {
            "standoff": 15
           },
           "zerolinecolor": "white",
           "zerolinewidth": 2
          }
         }
        },
        "title": {
         "text": "Happiness Score by Country"
        }
       }
      },
      "text/html": [
       "<div>\n",
       "        \n",
       "        \n",
       "            <div id=\"cd0cda5f-70b9-4154-9acf-eaa7c997bd1b\" class=\"plotly-graph-div\" style=\"height:525px; width:100%;\"></div>\n",
       "            <script type=\"text/javascript\">\n",
       "                require([\"plotly\"], function(Plotly) {\n",
       "                    window.PLOTLYENV=window.PLOTLYENV || {};\n",
       "                    \n",
       "                if (document.getElementById(\"cd0cda5f-70b9-4154-9acf-eaa7c997bd1b\")) {\n",
       "                    Plotly.newPlot(\n",
       "                        'cd0cda5f-70b9-4154-9acf-eaa7c997bd1b',\n",
       "                        [{\"colorbar\": {\"title\": {\"text\": \"Happiness Score\"}}, \"locations\": [\"NOR\", \"DNK\", \"FIN\", \"CHE\", \"ISL\", \"NLD\", \"ISR\", \"CAN\", \"NZL\", \"AUS\", \"SWE\", \"CRI\", \"AUT\", \"IRL\", \"DEU\", \"USA\", \"BEL\", \"LUX\", \"SGP\", \"MEX\", \"CZE\", \"GBR\", \"ARG\", \"BRA\", \"FRA\", \"CHL\", \"GTM\", \"PAN\", \"MLT\", \"COL\", \"URY\", \"ARE\", \"ESP\", \"SAU\", \"THA\", \"SVK\", \"LTU\", \"BHR\", \"SLV\", \"NIC\", \"ECU\", \"ITA\", \"UZB\", \"MYS\", \"RUS\", \"KWT\", \"MDA\", \"POL\", \"QAT\", \"ROU\", \"LVA\", \"PER\", \"JPN\", \"KAZ\", \"BOL\", \"SVN\", \"MUS\", \"DZA\", \"CYP\", \"EST\", \"TKM\", \"SRB\", \"KSV\", \"HRV\", \"TUR\", \"HND\", \"PRY\", \"LBY\", \"PAK\", \"BLR\", \"PHL\", \"CHN\", \"HUN\", \"MNE\", \"JAM\", \"BIH\", \"MAR\", \"PRT\", \"JOR\", \"AZE\", \"VEN\", \"IDN\", \"DOM\", \"GRC\", \"VNM\", \"SOM\", \"LBN\", \"NGA\", \"KGZ\", \"NPL\", \"BGD\", \"IRN\", \"TJK\", \"TUN\", \"BTN\", \"ZAF\", \"MNG\", \"BGR\", \"MOZ\", \"ALB\", \"CMR\", \"ARM\", \"EGY\", \"NAM\", \"ZMB\", \"SLE\", \"KEN\", \"ETH\", \"GAB\", \"SEN\", \"IND\", \"IRQ\", \"GEO\", \"KHM\", \"LKA\", \"GHA\", \"UKR\", \"MRT\", \"ZWE\", \"MWI\", \"BFA\", \"UGA\", \"MLI\", \"TCD\", \"LSO\", \"GIN\", \"NER\", \"LBR\", \"BEN\", \"HTI\", \"MDG\", \"BWA\", \"TGO\", \"YEM\", \"AFG\", \"RWA\", \"SSD\", \"TZA\", \"BDI\", \"SYR\", \"CAF\"], \"text\": [\"Norway\", \"Denmark\", \"Finland\", \"Switzerland\", \"Iceland\", \"Netherlands\", \"Israel\", \"Canada\", \"New Zealand\", \"Australia\", \"Sweden\", \"Costa Rica\", \"Austria\", \"Ireland\", \"Germany\", \"United States\", \"Belgium\", \"Luxembourg\", \"Singapore\", \"Mexico\", \"Czech Republic\", \"United Kingdom\", \"Argentina\", \"Brazil\", \"France\", \"Chile\", \"Guatemala\", \"Panama\", \"Malta\", \"Colombia\", \"Uruguay\", \"United Arab Emirates\", \"Spain\", \"Saudi Arabia\", \"Thailand\", \"Slovakia\", \"Lithuania\", \"Bahrain\", \"El Salvador\", \"Nicaragua\", \"Ecuador\", \"Italy\", \"Uzbekistan\", \"Malaysia\", \"Russia\", \"Kuwait\", \"Moldova\", \"Poland\", \"Qatar\", \"Romania\", \"Latvia\", \"Peru\", \"Japan\", \"Kazakhstan\", \"Bolivia\", \"Slovenia\", \"Mauritius\", \"Algeria\", \"Cyprus\", \"Estonia\", \"Turkmenistan\", \"Serbia\", \"Kosovo\", \"Croatia\", \"Turkey\", \"Honduras\", \"Paraguay\", \"Libya\", \"Pakistan\", \"Belarus\", \"Philippines\", \"China\", \"Hungary\", \"Montenegro\", \"Jamaica\", \"Bosnia and Herzegovina\", \"Morocco\", \"Portugal\", \"Jordan\", \"Azerbaijan\", \"Venezuela\", \"Indonesia\", \"Dominican Republic\", \"Greece\", \"Vietnam\", \"Somalia\", \"Lebanon\", \"Nigeria\", \"Kyrgyzstan\", \"Nepal\", \"Bangladesh\", \"Iran\", \"Tajikistan\", \"Tunisia\", \"Bhutan\", \"South Africa\", \"Mongolia\", \"Bulgaria\", \"Mozambique\", \"Albania\", \"Cameroon\", \"Armenia\", \"Egypt\", \"Namibia\", \"Zambia\", \"Sierra Leone\", \"Kenya\", \"Ethiopia\", \"Gabon\", \"Senegal\", \"India\", \"Iraq\", \"Georgia\", \"Cambodia\", \"Sri Lanka\", \"Ghana\", \"Ukraine\", \"Mauritania\", \"Zimbabwe\", \"Malawi\", \"Burkina Faso\", \"Uganda\", \"Mali\", \"Chad\", \"Lesotho\", \"Guinea\", \"Niger\", \"Liberia\", \"Benin\", \"Haiti\", \"Madagascar\", \"Botswana\", \"Togo\", \"Yemen\", \"Afghanistan\", \"Rwanda\", \"South Sudan\", \"Tanzania\", \"Burundi\", \"Syria\", \"Central African Republic\"], \"type\": \"choropleth\", \"z\": [7.59002665328979, 7.51970735168457, 7.4851815032959, 7.4847162322997995, 7.415715282440191, 7.38880409622192, 7.27575733566284, 7.27326444244385, 7.2274563369751, 7.200210819244379, 7.1945379943847705, 7.13163920211792, 7.0075064125061, 6.94886903762817, 6.85076995849609, 6.8441134223938, 6.81321035766602, 6.7555120811462395, 6.67236199951172, 6.67115486526489, 6.66686185836792, 6.64714352416992, 6.60600532722473, 6.589267082214359, 6.57695474243164, 6.557585857391359, 6.49689109611511, 6.48719995498657, 6.46586283111572, 6.45506812477112, 6.45240953445435, 6.414703540802, 6.3537577400207494, 6.2714296874999995, 6.270508342742919, 6.19777665138245, 6.17544052314758, 6.158149387359621, 6.1365938873291, 6.12993055915833, 6.093352582931519, 6.053312053680421, 6.03991360473633, 6.016448890686039, 6.01360741424561, 5.999425205230711, 5.98580839920044, 5.9757228164672895, 5.9554644203186, 5.945831483840941, 5.860655204772951, 5.860269430160521, 5.85122355270386, 5.84689255905151, 5.84627902793884, 5.812317298889161, 5.7905839138031, 5.78760382652283, 5.78624919891357, 5.75550865936279, 5.7459098224639895, 5.64608442687988, 5.639540723800659, 5.62649242591858, 5.61427794456482, 5.60281115722656, 5.5703334903717, 5.5560112438201905, 5.52148929023743, 5.51523298454285, 5.51160475158691, 5.490938592910769, 5.455459274291989, 5.43119154167175, 5.37732566833496, 5.37517257499695, 5.35118939399719, 5.3386827049255405, 5.29117655754089, 5.289481689453121, 5.24646375846863, 5.240476976394651, 5.22546516036987, 5.18622156333923, 5.163318658828739, 5.15548456954956, 5.13007384300232, 5.09939053916931, 5.07972313690186, 5.0532410736084, 5.02773616218567, 4.92573495101929, 4.92104932975769, 4.90725115966797, 4.87218440246582, 4.864908603668209, 4.84729236221313, 4.812139287948608, 4.764650901794431, 4.74744156074524, 4.7286455821991, 4.6834991569519, 4.68216107368469, 4.677890201568601, 4.65370545578003, 4.62545989227295, 4.5839021987915, 4.56974373245239, 4.526916269302371, 4.46164614868164, 4.4101171169281, 4.39390726089478, 4.35713780593872, 4.27894109344482, 4.225389247894286, 4.2088675079345705, 4.138382314682007, 4.13763731575012, 4.11197024726868, 4.0777861557006805, 4.03921290588379, 4.038362657547, 3.99819095611572, 3.8292380409240696, 3.81483531951904, 3.76131189727783, 3.75998338317871, 3.7472859611511202, 3.71863096523285, 3.71216763496399, 3.68761260795593, 3.6819137134552, 3.6492292518615703, 3.58660060501099, 3.56180118179321, 3.407061235427856, 3.35856738471985, 3.321130466461182, 3.1320241680145298, 2.9835735054016097, 2.6920047531127897]}],\n",
       "                        {\"geo\": {\"projection\": {\"type\": \"mercator\"}, \"showframe\": false}, \"template\": {\"data\": {\"bar\": [{\"error_x\": {\"color\": \"#2a3f5f\"}, \"error_y\": {\"color\": \"#2a3f5f\"}, \"marker\": {\"line\": {\"color\": \"#E5ECF6\", \"width\": 0.5}}, \"type\": \"bar\"}], \"barpolar\": [{\"marker\": {\"line\": {\"color\": \"#E5ECF6\", \"width\": 0.5}}, \"type\": \"barpolar\"}], \"carpet\": [{\"aaxis\": {\"endlinecolor\": \"#2a3f5f\", \"gridcolor\": \"white\", \"linecolor\": \"white\", \"minorgridcolor\": \"white\", \"startlinecolor\": \"#2a3f5f\"}, \"baxis\": {\"endlinecolor\": \"#2a3f5f\", \"gridcolor\": \"white\", \"linecolor\": \"white\", \"minorgridcolor\": \"white\", \"startlinecolor\": \"#2a3f5f\"}, \"type\": \"carpet\"}], \"choropleth\": [{\"colorbar\": {\"outlinewidth\": 0, \"ticks\": \"\"}, \"type\": \"choropleth\"}], \"contour\": [{\"colorbar\": {\"outlinewidth\": 0, \"ticks\": \"\"}, \"colorscale\": [[0.0, \"#0d0887\"], [0.1111111111111111, \"#46039f\"], [0.2222222222222222, \"#7201a8\"], [0.3333333333333333, \"#9c179e\"], [0.4444444444444444, \"#bd3786\"], [0.5555555555555556, \"#d8576b\"], [0.6666666666666666, \"#ed7953\"], [0.7777777777777778, \"#fb9f3a\"], [0.8888888888888888, \"#fdca26\"], [1.0, \"#f0f921\"]], \"type\": \"contour\"}], \"contourcarpet\": [{\"colorbar\": {\"outlinewidth\": 0, \"ticks\": \"\"}, \"type\": \"contourcarpet\"}], \"heatmap\": [{\"colorbar\": {\"outlinewidth\": 0, \"ticks\": \"\"}, \"colorscale\": [[0.0, \"#0d0887\"], [0.1111111111111111, \"#46039f\"], [0.2222222222222222, \"#7201a8\"], [0.3333333333333333, \"#9c179e\"], [0.4444444444444444, \"#bd3786\"], [0.5555555555555556, \"#d8576b\"], [0.6666666666666666, \"#ed7953\"], [0.7777777777777778, \"#fb9f3a\"], [0.8888888888888888, \"#fdca26\"], [1.0, \"#f0f921\"]], \"type\": \"heatmap\"}], \"heatmapgl\": [{\"colorbar\": {\"outlinewidth\": 0, \"ticks\": \"\"}, \"colorscale\": [[0.0, \"#0d0887\"], [0.1111111111111111, \"#46039f\"], [0.2222222222222222, \"#7201a8\"], [0.3333333333333333, \"#9c179e\"], [0.4444444444444444, \"#bd3786\"], [0.5555555555555556, \"#d8576b\"], [0.6666666666666666, \"#ed7953\"], [0.7777777777777778, \"#fb9f3a\"], [0.8888888888888888, \"#fdca26\"], [1.0, \"#f0f921\"]], \"type\": \"heatmapgl\"}], \"histogram\": [{\"marker\": {\"colorbar\": {\"outlinewidth\": 0, \"ticks\": \"\"}}, \"type\": \"histogram\"}], \"histogram2d\": [{\"colorbar\": {\"outlinewidth\": 0, \"ticks\": \"\"}, \"colorscale\": [[0.0, \"#0d0887\"], [0.1111111111111111, \"#46039f\"], [0.2222222222222222, \"#7201a8\"], [0.3333333333333333, \"#9c179e\"], [0.4444444444444444, \"#bd3786\"], [0.5555555555555556, \"#d8576b\"], [0.6666666666666666, \"#ed7953\"], [0.7777777777777778, \"#fb9f3a\"], [0.8888888888888888, \"#fdca26\"], [1.0, \"#f0f921\"]], \"type\": \"histogram2d\"}], \"histogram2dcontour\": [{\"colorbar\": {\"outlinewidth\": 0, \"ticks\": \"\"}, \"colorscale\": [[0.0, \"#0d0887\"], [0.1111111111111111, \"#46039f\"], [0.2222222222222222, \"#7201a8\"], [0.3333333333333333, \"#9c179e\"], [0.4444444444444444, \"#bd3786\"], [0.5555555555555556, \"#d8576b\"], [0.6666666666666666, \"#ed7953\"], [0.7777777777777778, \"#fb9f3a\"], [0.8888888888888888, \"#fdca26\"], [1.0, \"#f0f921\"]], \"type\": \"histogram2dcontour\"}], \"mesh3d\": [{\"colorbar\": {\"outlinewidth\": 0, \"ticks\": \"\"}, \"type\": \"mesh3d\"}], \"parcoords\": [{\"line\": {\"colorbar\": {\"outlinewidth\": 0, \"ticks\": \"\"}}, \"type\": \"parcoords\"}], \"pie\": [{\"automargin\": true, \"type\": \"pie\"}], \"scatter\": [{\"marker\": {\"colorbar\": {\"outlinewidth\": 0, \"ticks\": \"\"}}, \"type\": \"scatter\"}], \"scatter3d\": [{\"line\": {\"colorbar\": {\"outlinewidth\": 0, \"ticks\": \"\"}}, \"marker\": {\"colorbar\": {\"outlinewidth\": 0, \"ticks\": \"\"}}, \"type\": \"scatter3d\"}], \"scattercarpet\": [{\"marker\": {\"colorbar\": {\"outlinewidth\": 0, \"ticks\": \"\"}}, \"type\": \"scattercarpet\"}], \"scattergeo\": [{\"marker\": {\"colorbar\": {\"outlinewidth\": 0, \"ticks\": \"\"}}, \"type\": \"scattergeo\"}], \"scattergl\": [{\"marker\": {\"colorbar\": {\"outlinewidth\": 0, \"ticks\": \"\"}}, \"type\": \"scattergl\"}], \"scattermapbox\": [{\"marker\": {\"colorbar\": {\"outlinewidth\": 0, \"ticks\": \"\"}}, \"type\": \"scattermapbox\"}], \"scatterpolar\": [{\"marker\": {\"colorbar\": {\"outlinewidth\": 0, \"ticks\": \"\"}}, \"type\": \"scatterpolar\"}], \"scatterpolargl\": [{\"marker\": {\"colorbar\": {\"outlinewidth\": 0, \"ticks\": \"\"}}, \"type\": \"scatterpolargl\"}], \"scatterternary\": [{\"marker\": {\"colorbar\": {\"outlinewidth\": 0, \"ticks\": \"\"}}, \"type\": \"scatterternary\"}], \"surface\": [{\"colorbar\": {\"outlinewidth\": 0, \"ticks\": \"\"}, \"colorscale\": [[0.0, \"#0d0887\"], [0.1111111111111111, \"#46039f\"], [0.2222222222222222, \"#7201a8\"], [0.3333333333333333, \"#9c179e\"], [0.4444444444444444, \"#bd3786\"], [0.5555555555555556, \"#d8576b\"], [0.6666666666666666, \"#ed7953\"], [0.7777777777777778, \"#fb9f3a\"], [0.8888888888888888, \"#fdca26\"], [1.0, \"#f0f921\"]], \"type\": \"surface\"}], \"table\": [{\"cells\": {\"fill\": {\"color\": \"#EBF0F8\"}, \"line\": {\"color\": \"white\"}}, \"header\": {\"fill\": {\"color\": \"#C8D4E3\"}, \"line\": {\"color\": \"white\"}}, \"type\": \"table\"}]}, \"layout\": {\"annotationdefaults\": {\"arrowcolor\": \"#2a3f5f\", \"arrowhead\": 0, \"arrowwidth\": 1}, \"coloraxis\": {\"colorbar\": {\"outlinewidth\": 0, \"ticks\": \"\"}}, \"colorscale\": {\"diverging\": [[0, \"#8e0152\"], [0.1, \"#c51b7d\"], [0.2, \"#de77ae\"], [0.3, \"#f1b6da\"], [0.4, \"#fde0ef\"], [0.5, \"#f7f7f7\"], [0.6, \"#e6f5d0\"], [0.7, \"#b8e186\"], [0.8, \"#7fbc41\"], [0.9, \"#4d9221\"], [1, \"#276419\"]], \"sequential\": [[0.0, \"#0d0887\"], [0.1111111111111111, \"#46039f\"], [0.2222222222222222, \"#7201a8\"], [0.3333333333333333, \"#9c179e\"], [0.4444444444444444, \"#bd3786\"], [0.5555555555555556, \"#d8576b\"], [0.6666666666666666, \"#ed7953\"], [0.7777777777777778, \"#fb9f3a\"], [0.8888888888888888, \"#fdca26\"], [1.0, \"#f0f921\"]], \"sequentialminus\": [[0.0, \"#0d0887\"], [0.1111111111111111, \"#46039f\"], [0.2222222222222222, \"#7201a8\"], [0.3333333333333333, \"#9c179e\"], [0.4444444444444444, \"#bd3786\"], [0.5555555555555556, \"#d8576b\"], [0.6666666666666666, \"#ed7953\"], [0.7777777777777778, \"#fb9f3a\"], [0.8888888888888888, \"#fdca26\"], [1.0, \"#f0f921\"]]}, \"colorway\": [\"#636efa\", \"#EF553B\", \"#00cc96\", \"#ab63fa\", \"#FFA15A\", \"#19d3f3\", \"#FF6692\", \"#B6E880\", \"#FF97FF\", \"#FECB52\"], \"font\": {\"color\": \"#2a3f5f\"}, \"geo\": {\"bgcolor\": \"white\", \"lakecolor\": \"white\", \"landcolor\": \"#E5ECF6\", \"showlakes\": true, \"showland\": true, \"subunitcolor\": \"white\"}, \"hoverlabel\": {\"align\": \"left\"}, \"hovermode\": \"closest\", \"mapbox\": {\"style\": \"light\"}, \"paper_bgcolor\": \"white\", \"plot_bgcolor\": \"#E5ECF6\", \"polar\": {\"angularaxis\": {\"gridcolor\": \"white\", \"linecolor\": \"white\", \"ticks\": \"\"}, \"bgcolor\": \"#E5ECF6\", \"radialaxis\": {\"gridcolor\": \"white\", \"linecolor\": \"white\", \"ticks\": \"\"}}, \"scene\": {\"xaxis\": {\"backgroundcolor\": \"#E5ECF6\", \"gridcolor\": \"white\", \"gridwidth\": 2, \"linecolor\": \"white\", \"showbackground\": true, \"ticks\": \"\", \"zerolinecolor\": \"white\"}, \"yaxis\": {\"backgroundcolor\": \"#E5ECF6\", \"gridcolor\": \"white\", \"gridwidth\": 2, \"linecolor\": \"white\", \"showbackground\": true, \"ticks\": \"\", \"zerolinecolor\": \"white\"}, \"zaxis\": {\"backgroundcolor\": \"#E5ECF6\", \"gridcolor\": \"white\", \"gridwidth\": 2, \"linecolor\": \"white\", \"showbackground\": true, \"ticks\": \"\", \"zerolinecolor\": \"white\"}}, \"shapedefaults\": {\"line\": {\"color\": \"#2a3f5f\"}}, \"ternary\": {\"aaxis\": {\"gridcolor\": \"white\", \"linecolor\": \"white\", \"ticks\": \"\"}, \"baxis\": {\"gridcolor\": \"white\", \"linecolor\": \"white\", \"ticks\": \"\"}, \"bgcolor\": \"#E5ECF6\", \"caxis\": {\"gridcolor\": \"white\", \"linecolor\": \"white\", \"ticks\": \"\"}}, \"title\": {\"x\": 0.05}, \"xaxis\": {\"automargin\": true, \"gridcolor\": \"white\", \"linecolor\": \"white\", \"ticks\": \"\", \"title\": {\"standoff\": 15}, \"zerolinecolor\": \"white\", \"zerolinewidth\": 2}, \"yaxis\": {\"automargin\": true, \"gridcolor\": \"white\", \"linecolor\": \"white\", \"ticks\": \"\", \"title\": {\"standoff\": 15}, \"zerolinecolor\": \"white\", \"zerolinewidth\": 2}}}, \"title\": {\"text\": \"Happiness Score by Country\"}},\n",
       "                        {\"responsive\": true}\n",
       "                    ).then(function(){\n",
       "                            \n",
       "var gd = document.getElementById('cd0cda5f-70b9-4154-9acf-eaa7c997bd1b');\n",
       "var x = new MutationObserver(function (mutations, observer) {{\n",
       "        var display = window.getComputedStyle(gd).display;\n",
       "        if (!display || display === 'none') {{\n",
       "            console.log([gd, 'removed!']);\n",
       "            Plotly.purge(gd);\n",
       "            observer.disconnect();\n",
       "        }}\n",
       "}});\n",
       "\n",
       "// Listen for the removal of the full notebook cells\n",
       "var notebookContainer = gd.closest('#notebook-container');\n",
       "if (notebookContainer) {{\n",
       "    x.observe(notebookContainer, {childList: true});\n",
       "}}\n",
       "\n",
       "// Listen for the clearing of the current output cell\n",
       "var outputEl = gd.closest('.output');\n",
       "if (outputEl) {{\n",
       "    x.observe(outputEl, {childList: true});\n",
       "}}\n",
       "\n",
       "                        })\n",
       "                };\n",
       "                });\n",
       "            </script>\n",
       "        </div>"
      ]
     },
     "metadata": {},
     "output_type": "display_data"
    }
   ],
   "source": [
    "choromap1 = go.Figure(data = [world_happy], layout = layout)\n",
    "iplot(choromap1)"
   ]
  },
  {
   "cell_type": "markdown",
   "metadata": {},
   "source": [
    "### Freedom in the Middle East\n",
    "Wanted to get an idea of how responders in the Middle East felt their freedom to make life choices impacted their happiness, as it is beleived they are limited in this respect. "
   ]
  },
  {
   "cell_type": "markdown",
   "metadata": {},
   "source": [
    "I also wanted to see whether their responses have changed over the last 5 years, due to Western influence."
   ]
  },
  {
   "cell_type": "code",
   "execution_count": 22,
   "metadata": {},
   "outputs": [],
   "source": [
    "middle_east_countries = ['Iran','Iraq','Syria', 'Israel', 'Saudi Arabia','Turkey','Egypt']\n",
    "middle_east_2019 = world[world.Country.isin(middle_east_countries)]\n",
    "middle_east_2015 = df2015[df2015.Country.isin(middle_east_countries)]"
   ]
  },
  {
   "cell_type": "code",
   "execution_count": 23,
   "metadata": {},
   "outputs": [
    {
     "data": {
      "text/plain": [
       "Text(0, 0.5, 'Freedom Score')"
      ]
     },
     "execution_count": 23,
     "metadata": {},
     "output_type": "execute_result"
    },
    {
     "data": {
      "image/png": "[encoded data removed]",
      "text/plain": [
       "<Figure size 1656x360 with 2 Axes>"
      ]
     },
     "metadata": {},
     "output_type": "display_data"
    }
   ],
   "source": [
    "sns.set_style('whitegrid')\n",
    "f, ax = plt.subplots(1,2, figsize = (23,5))\n",
    "ax[0].bar('Country','Freedom', data = middle_east_2015.sort_values('Freedom'))\n",
    "ax[0].set_title('Middle East (2015) Freedom Scores')\n",
    "ax[0].set_xlabel('Country')\n",
    "ax[0].set_ylabel('Freedom Score')\n",
    "ax[1].bar('Country','Freedom', data = middle_east_2019.sort_values('Freedom'))\n",
    "ax[1].set_title('Middle East (2019) Freedom Scores')\n",
    "ax[1].set_xlabel('Country')\n",
    "ax[1].set_ylabel('Freedom Score')"
   ]
  },
  {
   "cell_type": "code",
   "execution_count": 24,
   "metadata": {},
   "outputs": [
    {
     "name": "stdout",
     "output_type": "stream",
     "text": [
      "In 2015 the mean Freedom score was 0.23, whereas in 2019 the score was 0.26.\n"
     ]
    }
   ],
   "source": [
    "me2019 = round(middle_east_2019['Freedom'].mean(),2)\n",
    "me2015 = round(middle_east_2015['Freedom'].mean(),2)\n",
    "print(f'In 2015 the mean Freedom score was {me2015}, whereas in 2019 the score was {me2019}.')"
   ]
  },
  {
   "cell_type": "markdown",
   "metadata": {},
   "source": [
    "Overall, the Freedom score in the Middle East slightly improved, but note Iraq had a Freedom score of 0.0 in 2015. This may be an error, but I am assuming the data was collected correctly and that the responders in Iraq truly beleived their Freedom score was a 0.0. <br> <br>\n",
    "One thing I noticed was Saudi Arabia's Freedom score increase from roughly 0.31 to 0.45. Maybe because of Mohammad bin Salman's appointment to crown prince in June of 2017 and his desire to reform the country?"
   ]
  },
  {
   "cell_type": "markdown",
   "metadata": {},
   "source": [
    "### Add Continents to the DataFrame\n",
    "Found this __countryinfo.py__ script online at: https://gist.github.com/mjrulesamrat/0c1f7de951d3c508fb3a20b4b0b33a98 which contains the country and continent it is on. "
   ]
  },
  {
   "cell_type": "code",
   "execution_count": 25,
   "metadata": {},
   "outputs": [],
   "source": [
    "from countryinfo import countries as country_data"
   ]
  },
  {
   "cell_type": "code",
   "execution_count": 26,
   "metadata": {},
   "outputs": [
    {
     "data": {
      "text/html": [
       "<div>\n",
       "<style scoped>\n",
       "    .dataframe tbody tr th:only-of-type {\n",
       "        vertical-align: middle;\n",
       "    }\n",
       "\n",
       "    .dataframe tbody tr th {\n",
       "        vertical-align: top;\n",
       "    }\n",
       "\n",
       "    .dataframe thead th {\n",
       "        text-align: right;\n",
       "    }\n",
       "</style>\n",
       "<table border=\"1\" class=\"dataframe\">\n",
       "  <thead>\n",
       "    <tr style=\"text-align: right;\">\n",
       "      <th></th>\n",
       "      <th>timezones</th>\n",
       "      <th>code</th>\n",
       "      <th>continent</th>\n",
       "      <th>name</th>\n",
       "      <th>capital</th>\n",
       "    </tr>\n",
       "  </thead>\n",
       "  <tbody>\n",
       "    <tr>\n",
       "      <td>0</td>\n",
       "      <td>[Europe/Andorra]</td>\n",
       "      <td>AD</td>\n",
       "      <td>Europe</td>\n",
       "      <td>Andorra</td>\n",
       "      <td>Andorra la Vella</td>\n",
       "    </tr>\n",
       "    <tr>\n",
       "      <td>1</td>\n",
       "      <td>[Asia/Kabul]</td>\n",
       "      <td>AF</td>\n",
       "      <td>Asia</td>\n",
       "      <td>Afghanistan</td>\n",
       "      <td>Kabul</td>\n",
       "    </tr>\n",
       "    <tr>\n",
       "      <td>2</td>\n",
       "      <td>[America/Antigua]</td>\n",
       "      <td>AG</td>\n",
       "      <td>North America</td>\n",
       "      <td>Antigua and Barbuda</td>\n",
       "      <td>St. John's</td>\n",
       "    </tr>\n",
       "    <tr>\n",
       "      <td>3</td>\n",
       "      <td>[Europe/Tirane]</td>\n",
       "      <td>AL</td>\n",
       "      <td>Europe</td>\n",
       "      <td>Albania</td>\n",
       "      <td>Tirana</td>\n",
       "    </tr>\n",
       "    <tr>\n",
       "      <td>4</td>\n",
       "      <td>[Asia/Yerevan]</td>\n",
       "      <td>AM</td>\n",
       "      <td>Asia</td>\n",
       "      <td>Armenia</td>\n",
       "      <td>Yerevan</td>\n",
       "    </tr>\n",
       "  </tbody>\n",
       "</table>\n",
       "</div>"
      ],
      "text/plain": [
       "           timezones code      continent                 name  \\\n",
       "0   [Europe/Andorra]   AD         Europe              Andorra   \n",
       "1       [Asia/Kabul]   AF           Asia          Afghanistan   \n",
       "2  [America/Antigua]   AG  North America  Antigua and Barbuda   \n",
       "3    [Europe/Tirane]   AL         Europe              Albania   \n",
       "4     [Asia/Yerevan]   AM           Asia              Armenia   \n",
       "\n",
       "            capital  \n",
       "0  Andorra la Vella  \n",
       "1             Kabul  \n",
       "2        St. John's  \n",
       "3            Tirana  \n",
       "4           Yerevan  "
      ]
     },
     "execution_count": 26,
     "metadata": {},
     "output_type": "execute_result"
    }
   ],
   "source": [
    "continents = pd.DataFrame(country_data)\n",
    "continents.head()"
   ]
  },
  {
   "cell_type": "markdown",
   "metadata": {},
   "source": [
    "### Cleaning the continents DataFrame\n",
    "Only want the Country column (to eventuall merge on) and Continent column"
   ]
  },
  {
   "cell_type": "code",
   "execution_count": 27,
   "metadata": {},
   "outputs": [],
   "source": [
    "continents.drop(['timezones','code','capital'], axis = 1, inplace = True)\n",
    "continents.rename(columns = {'continent':'Continent'}, inplace = True)\n",
    "continents.rename(columns = {'name':'Country'}, inplace = True)"
   ]
  },
  {
   "cell_type": "markdown",
   "metadata": {},
   "source": [
    "### Merge the Continents into the world DataFrame"
   ]
  },
  {
   "cell_type": "code",
   "execution_count": 28,
   "metadata": {},
   "outputs": [],
   "source": [
    "world = pd.merge(world, continents, how = 'inner', on = 'Country')"
   ]
  },
  {
   "cell_type": "code",
   "execution_count": 29,
   "metadata": {},
   "outputs": [
    {
     "data": {
      "text/html": [
       "<div>\n",
       "<style scoped>\n",
       "    .dataframe tbody tr th:only-of-type {\n",
       "        vertical-align: middle;\n",
       "    }\n",
       "\n",
       "    .dataframe tbody tr th {\n",
       "        vertical-align: top;\n",
       "    }\n",
       "\n",
       "    .dataframe thead th {\n",
       "        text-align: right;\n",
       "    }\n",
       "</style>\n",
       "<table border=\"1\" class=\"dataframe\">\n",
       "  <thead>\n",
       "    <tr style=\"text-align: right;\">\n",
       "      <th></th>\n",
       "      <th>Country</th>\n",
       "      <th>GDP</th>\n",
       "      <th>Soc_Support</th>\n",
       "      <th>Life_Exp</th>\n",
       "      <th>Freedom</th>\n",
       "      <th>Generosity</th>\n",
       "      <th>Trust</th>\n",
       "      <th>Dys_Res</th>\n",
       "      <th>CODE</th>\n",
       "      <th>Score</th>\n",
       "      <th>Rank</th>\n",
       "      <th>Continent</th>\n",
       "    </tr>\n",
       "  </thead>\n",
       "  <tbody>\n",
       "    <tr>\n",
       "      <td>0</td>\n",
       "      <td>Norway</td>\n",
       "      <td>1.488</td>\n",
       "      <td>1.582</td>\n",
       "      <td>1.028</td>\n",
       "      <td>0.603</td>\n",
       "      <td>0.271</td>\n",
       "      <td>0.341</td>\n",
       "      <td>2.277027</td>\n",
       "      <td>NOR</td>\n",
       "      <td>7.590027</td>\n",
       "      <td>1</td>\n",
       "      <td>Europe</td>\n",
       "    </tr>\n",
       "    <tr>\n",
       "      <td>1</td>\n",
       "      <td>Denmark</td>\n",
       "      <td>1.383</td>\n",
       "      <td>1.573</td>\n",
       "      <td>0.996</td>\n",
       "      <td>0.592</td>\n",
       "      <td>0.252</td>\n",
       "      <td>0.410</td>\n",
       "      <td>2.313707</td>\n",
       "      <td>DNK</td>\n",
       "      <td>7.519707</td>\n",
       "      <td>2</td>\n",
       "      <td>Europe</td>\n",
       "    </tr>\n",
       "    <tr>\n",
       "      <td>2</td>\n",
       "      <td>Finland</td>\n",
       "      <td>1.340</td>\n",
       "      <td>1.587</td>\n",
       "      <td>0.986</td>\n",
       "      <td>0.596</td>\n",
       "      <td>0.153</td>\n",
       "      <td>0.393</td>\n",
       "      <td>2.430182</td>\n",
       "      <td>FIN</td>\n",
       "      <td>7.485182</td>\n",
       "      <td>3</td>\n",
       "      <td>Europe</td>\n",
       "    </tr>\n",
       "    <tr>\n",
       "      <td>3</td>\n",
       "      <td>Switzerland</td>\n",
       "      <td>1.452</td>\n",
       "      <td>1.526</td>\n",
       "      <td>1.052</td>\n",
       "      <td>0.572</td>\n",
       "      <td>0.263</td>\n",
       "      <td>0.343</td>\n",
       "      <td>2.276716</td>\n",
       "      <td>CHE</td>\n",
       "      <td>7.484716</td>\n",
       "      <td>4</td>\n",
       "      <td>Europe</td>\n",
       "    </tr>\n",
       "    <tr>\n",
       "      <td>4</td>\n",
       "      <td>Iceland</td>\n",
       "      <td>1.380</td>\n",
       "      <td>1.624</td>\n",
       "      <td>1.026</td>\n",
       "      <td>0.591</td>\n",
       "      <td>0.354</td>\n",
       "      <td>0.118</td>\n",
       "      <td>2.322715</td>\n",
       "      <td>ISL</td>\n",
       "      <td>7.415715</td>\n",
       "      <td>5</td>\n",
       "      <td>Europe</td>\n",
       "    </tr>\n",
       "  </tbody>\n",
       "</table>\n",
       "</div>"
      ],
      "text/plain": [
       "       Country    GDP  Soc_Support  Life_Exp  Freedom  Generosity  Trust  \\\n",
       "0       Norway  1.488        1.582     1.028    0.603       0.271  0.341   \n",
       "1      Denmark  1.383        1.573     0.996    0.592       0.252  0.410   \n",
       "2      Finland  1.340        1.587     0.986    0.596       0.153  0.393   \n",
       "3  Switzerland  1.452        1.526     1.052    0.572       0.263  0.343   \n",
       "4      Iceland  1.380        1.624     1.026    0.591       0.354  0.118   \n",
       "\n",
       "    Dys_Res CODE     Score  Rank Continent  \n",
       "0  2.277027  NOR  7.590027     1    Europe  \n",
       "1  2.313707  DNK  7.519707     2    Europe  \n",
       "2  2.430182  FIN  7.485182     3    Europe  \n",
       "3  2.276716  CHE  7.484716     4    Europe  \n",
       "4  2.322715  ISL  7.415715     5    Europe  "
      ]
     },
     "execution_count": 29,
     "metadata": {},
     "output_type": "execute_result"
    }
   ],
   "source": [
    "world.head()"
   ]
  },
  {
   "cell_type": "markdown",
   "metadata": {},
   "source": [
    "## Trust in Government "
   ]
  },
  {
   "cell_type": "markdown",
   "metadata": {},
   "source": [
    "### Trust in Government Boxplot\n",
    "We can see Oceania has the most trust in their Government, but another interesting point is the wide range in Trust scores in Europe, depicted by the large margin between the upper and lower quartiles."
   ]
  },
  {
   "cell_type": "code",
   "execution_count": 30,
   "metadata": {},
   "outputs": [
    {
     "data": {
      "text/plain": [
       "<matplotlib.axes._subplots.AxesSubplot at 0x1a23070f50>"
      ]
     },
     "execution_count": 30,
     "metadata": {},
     "output_type": "execute_result"
    },
    {
     "data": {
      "image/png": "[encoded data removed]",
      "text/plain": [
       "<Figure size 432x288 with 1 Axes>"
      ]
     },
     "metadata": {},
     "output_type": "display_data"
    }
   ],
   "source": [
    "sns.boxplot(x = 'Continent',y = 'Trust', data = world, palette = 'rainbow')"
   ]
  },
  {
   "cell_type": "markdown",
   "metadata": {},
   "source": [
    "### Quick View of the Statistics\n",
    "We can see that Europe has the highest standard deviation (by a decent amount) which measures the variation of Trust scores among the countries on that continent. "
   ]
  },
  {
   "cell_type": "code",
   "execution_count": 31,
   "metadata": {},
   "outputs": [
    {
     "data": {
      "text/html": [
       "<div>\n",
       "<style scoped>\n",
       "    .dataframe tbody tr th:only-of-type {\n",
       "        vertical-align: middle;\n",
       "    }\n",
       "\n",
       "    .dataframe tbody tr th {\n",
       "        vertical-align: top;\n",
       "    }\n",
       "\n",
       "    .dataframe thead th {\n",
       "        text-align: right;\n",
       "    }\n",
       "</style>\n",
       "<table border=\"1\" class=\"dataframe\">\n",
       "  <thead>\n",
       "    <tr style=\"text-align: right;\">\n",
       "      <th></th>\n",
       "      <th>count</th>\n",
       "      <th>mean</th>\n",
       "      <th>std</th>\n",
       "      <th>min</th>\n",
       "      <th>25%</th>\n",
       "      <th>50%</th>\n",
       "      <th>75%</th>\n",
       "      <th>max</th>\n",
       "    </tr>\n",
       "    <tr>\n",
       "      <th>Continent</th>\n",
       "      <th></th>\n",
       "      <th></th>\n",
       "      <th></th>\n",
       "      <th></th>\n",
       "      <th></th>\n",
       "      <th></th>\n",
       "      <th></th>\n",
       "      <th></th>\n",
       "    </tr>\n",
       "  </thead>\n",
       "  <tbody>\n",
       "    <tr>\n",
       "      <td>Africa</td>\n",
       "      <td>38.0</td>\n",
       "      <td>0.093079</td>\n",
       "      <td>0.070366</td>\n",
       "      <td>0.033</td>\n",
       "      <td>0.05500</td>\n",
       "      <td>0.0800</td>\n",
       "      <td>0.10000</td>\n",
       "      <td>0.411</td>\n",
       "    </tr>\n",
       "    <tr>\n",
       "      <td>Asia</td>\n",
       "      <td>38.0</td>\n",
       "      <td>0.106684</td>\n",
       "      <td>0.079184</td>\n",
       "      <td>0.023</td>\n",
       "      <td>0.05075</td>\n",
       "      <td>0.0965</td>\n",
       "      <td>0.14075</td>\n",
       "      <td>0.453</td>\n",
       "    </tr>\n",
       "    <tr>\n",
       "      <td>Europe</td>\n",
       "      <td>36.0</td>\n",
       "      <td>0.127361</td>\n",
       "      <td>0.131279</td>\n",
       "      <td>0.000</td>\n",
       "      <td>0.02650</td>\n",
       "      <td>0.0605</td>\n",
       "      <td>0.21400</td>\n",
       "      <td>0.410</td>\n",
       "    </tr>\n",
       "    <tr>\n",
       "      <td>North America</td>\n",
       "      <td>12.0</td>\n",
       "      <td>0.104333</td>\n",
       "      <td>0.070308</td>\n",
       "      <td>0.028</td>\n",
       "      <td>0.07375</td>\n",
       "      <td>0.0855</td>\n",
       "      <td>0.11425</td>\n",
       "      <td>0.308</td>\n",
       "    </tr>\n",
       "    <tr>\n",
       "      <td>Oceania</td>\n",
       "      <td>2.0</td>\n",
       "      <td>0.335000</td>\n",
       "      <td>0.063640</td>\n",
       "      <td>0.290</td>\n",
       "      <td>0.31250</td>\n",
       "      <td>0.3350</td>\n",
       "      <td>0.35750</td>\n",
       "      <td>0.380</td>\n",
       "    </tr>\n",
       "    <tr>\n",
       "      <td>South America</td>\n",
       "      <td>10.0</td>\n",
       "      <td>0.068100</td>\n",
       "      <td>0.035457</td>\n",
       "      <td>0.027</td>\n",
       "      <td>0.04775</td>\n",
       "      <td>0.0600</td>\n",
       "      <td>0.08450</td>\n",
       "      <td>0.150</td>\n",
       "    </tr>\n",
       "  </tbody>\n",
       "</table>\n",
       "</div>"
      ],
      "text/plain": [
       "               count      mean       std    min      25%     50%      75%  \\\n",
       "Continent                                                                   \n",
       "Africa          38.0  0.093079  0.070366  0.033  0.05500  0.0800  0.10000   \n",
       "Asia            38.0  0.106684  0.079184  0.023  0.05075  0.0965  0.14075   \n",
       "Europe          36.0  0.127361  0.131279  0.000  0.02650  0.0605  0.21400   \n",
       "North America   12.0  0.104333  0.070308  0.028  0.07375  0.0855  0.11425   \n",
       "Oceania          2.0  0.335000  0.063640  0.290  0.31250  0.3350  0.35750   \n",
       "South America   10.0  0.068100  0.035457  0.027  0.04775  0.0600  0.08450   \n",
       "\n",
       "                 max  \n",
       "Continent             \n",
       "Africa         0.411  \n",
       "Asia           0.453  \n",
       "Europe         0.410  \n",
       "North America  0.308  \n",
       "Oceania        0.380  \n",
       "South America  0.150  "
      ]
     },
     "execution_count": 31,
     "metadata": {},
     "output_type": "execute_result"
    }
   ],
   "source": [
    "byContinent = world.groupby('Continent')['Trust']\n",
    "byContinent.describe()"
   ]
  },
  {
   "cell_type": "markdown",
   "metadata": {},
   "source": [
    "### Taking a Deeper Dive into Europe's Trust in Government"
   ]
  },
  {
   "cell_type": "markdown",
   "metadata": {},
   "source": [
    "#### Creating a the Europe_Trust DataFrame\n",
    "This DataFrame filters to only the European countries and sorts by their Trust scores."
   ]
  },
  {
   "cell_type": "code",
   "execution_count": 32,
   "metadata": {},
   "outputs": [],
   "source": [
    "Europe_Trust = world[world['Continent']=='Europe'].sort_values('Trust', ascending = False)"
   ]
  },
  {
   "cell_type": "markdown",
   "metadata": {},
   "source": [
    "#### Seperating the Most and Least Trusting European Countries"
   ]
  },
  {
   "cell_type": "code",
   "execution_count": 33,
   "metadata": {},
   "outputs": [],
   "source": [
    "Top_Europe = Europe_Trust.nlargest(10, 'Trust', keep = 'first')\n",
    "Bottom_Europe = Europe_Trust.nsmallest(10, 'Trust', keep = 'first')"
   ]
  },
  {
   "cell_type": "markdown",
   "metadata": {},
   "source": [
    "#### Plotting their Trust Scores"
   ]
  },
  {
   "cell_type": "code",
   "execution_count": 34,
   "metadata": {},
   "outputs": [
    {
     "data": {
      "text/plain": [
       "[<matplotlib.lines.Line2D at 0x1a23413250>]"
      ]
     },
     "execution_count": 34,
     "metadata": {},
     "output_type": "execute_result"
    },
    {
     "data": {
      "image/png": "[encoded data removed]",
      "text/plain": [
       "<Figure size 1080x360 with 2 Axes>"
      ]
     },
     "metadata": {},
     "output_type": "display_data"
    }
   ],
   "source": [
    "sns.set_style('darkgrid')\n",
    "fig, axes = plt.subplots(2, sharey = True, figsize = (15,5))\n",
    "axes[0].plot('Country', 'Trust', data = Top_Europe, color = 'blue')\n",
    "axes[1].plot('Country', 'Trust', data = Bottom_Europe, color = 'red')"
   ]
  },
  {
   "cell_type": "markdown",
   "metadata": {},
   "source": [
    "_Can easily see the seperation between their Trust scores._"
   ]
  },
  {
   "cell_type": "markdown",
   "metadata": {},
   "source": [
    "### Trust in Government Choropleth Map\n",
    "Interesting interactive map to see which countries or regions have the most trust in their Government. Right away, we see the Nordic region (including Sweden, Norway and Finland) have a high Trust score, whereas some of their surrounding neighbors to the southeast do not. __Would only be able to view if copied and ran in a Jupyter Notebook__"
   ]
  },
  {
   "cell_type": "code",
   "execution_count": 35,
   "metadata": {},
   "outputs": [
    {
     "data": {
      "application/vnd.plotly.v1+json": {
       "config": {
        "linkText": "Export to plot.ly",
        "plotlyServerURL": "https://plot.ly",
        "showLink": false
       },
       "data": [
        {
         "colorbar": {
          "title": {
           "text": "Trust Score"
          }
         },
         "locations": [
          "NOR",
          "DNK",
          "FIN",
          "CHE",
          "ISL",
          "ISR",
          "CAN",
          "NZL",
          "AUS",
          "SWE",
          "CRI",
          "AUT",
          "DEU",
          "USA",
          "BEL",
          "LUX",
          "SGP",
          "MEX",
          "CZE",
          "GBR",
          "ARG",
          "BRA",
          "FRA",
          "CHL",
          "GTM",
          "PAN",
          "MLT",
          "COL",
          "URY",
          "ARE",
          "ESP",
          "SAU",
          "THA",
          "SVK",
          "LTU",
          "BHR",
          "SLV",
          "NIC",
          "ECU",
          "ITA",
          "UZB",
          "MYS",
          "RUS",
          "KWT",
          "MDA",
          "POL",
          "QAT",
          "ROU",
          "LVA",
          "PER",
          "JPN",
          "KAZ",
          "BOL",
          "SVN",
          "MUS",
          "DZA",
          "CYP",
          "EST",
          "TKM",
          "SRB",
          "HRV",
          "TUR",
          "HND",
          "PRY",
          "LBY",
          "PAK",
          "BLR",
          "PHL",
          "HUN",
          "MNE",
          "JAM",
          "BIH",
          "MAR",
          "PRT",
          "JOR",
          "AZE",
          "VEN",
          "IDN",
          "DOM",
          "GRC",
          "VNM",
          "SOM",
          "LBN",
          "NGA",
          "KGZ",
          "NPL",
          "BGD",
          "IRN",
          "TJK",
          "TUN",
          "BTN",
          "ZAF",
          "MNG",
          "BGR",
          "MOZ",
          "ALB",
          "CMR",
          "ARM",
          "EGY",
          "NAM",
          "ZMB",
          "SLE",
          "KEN",
          "ETH",
          "GAB",
          "SEN",
          "IND",
          "IRQ",
          "GEO",
          "KHM",
          "LKA",
          "GHA",
          "UKR",
          "MRT",
          "ZWE",
          "MWI",
          "BFA",
          "UGA",
          "MLI",
          "TCD",
          "LSO",
          "GIN",
          "NER",
          "LBR",
          "BEN",
          "HTI",
          "MDG",
          "BWA",
          "TGO",
          "YEM",
          "AFG",
          "RWA",
          "TZA",
          "BDI",
          "SYR",
          "CAF"
         ],
         "text": [
          "Norway",
          "Denmark",
          "Finland",
          "Switzerland",
          "Iceland",
          "Israel",
          "Canada",
          "New Zealand",
          "Australia",
          "Sweden",
          "Costa Rica",
          "Austria",
          "Germany",
          "United States",
          "Belgium",
          "Luxembourg",
          "Singapore",
          "Mexico",
          "Czech Republic",
          "United Kingdom",
          "Argentina",
          "Brazil",
          "France",
          "Chile",
          "Guatemala",
          "Panama",
          "Malta",
          "Colombia",
          "Uruguay",
          "United Arab Emirates",
          "Spain",
          "Saudi Arabia",
          "Thailand",
          "Slovakia",
          "Lithuania",
          "Bahrain",
          "El Salvador",
          "Nicaragua",
          "Ecuador",
          "Italy",
          "Uzbekistan",
          "Malaysia",
          "Russia",
          "Kuwait",
          "Moldova",
          "Poland",
          "Qatar",
          "Romania",
          "Latvia",
          "Peru",
          "Japan",
          "Kazakhstan",
          "Bolivia",
          "Slovenia",
          "Mauritius",
          "Algeria",
          "Cyprus",
          "Estonia",
          "Turkmenistan",
          "Serbia",
          "Croatia",
          "Turkey",
          "Honduras",
          "Paraguay",
          "Libya",
          "Pakistan",
          "Belarus",
          "Philippines",
          "Hungary",
          "Montenegro",
          "Jamaica",
          "Bosnia and Herzegovina",
          "Morocco",
          "Portugal",
          "Jordan",
          "Azerbaijan",
          "Venezuela",
          "Indonesia",
          "Dominican Republic",
          "Greece",
          "Vietnam",
          "Somalia",
          "Lebanon",
          "Nigeria",
          "Kyrgyzstan",
          "Nepal",
          "Bangladesh",
          "Iran",
          "Tajikistan",
          "Tunisia",
          "Bhutan",
          "South Africa",
          "Mongolia",
          "Bulgaria",
          "Mozambique",
          "Albania",
          "Cameroon",
          "Armenia",
          "Egypt",
          "Namibia",
          "Zambia",
          "Sierra Leone",
          "Kenya",
          "Ethiopia",
          "Gabon",
          "Senegal",
          "India",
          "Iraq",
          "Georgia",
          "Cambodia",
          "Sri Lanka",
          "Ghana",
          "Ukraine",
          "Mauritania",
          "Zimbabwe",
          "Malawi",
          "Burkina Faso",
          "Uganda",
          "Mali",
          "Chad",
          "Lesotho",
          "Guinea",
          "Niger",
          "Liberia",
          "Benin",
          "Haiti",
          "Madagascar",
          "Botswana",
          "Togo",
          "Yemen",
          "Afghanistan",
          "Rwanda",
          "Tanzania",
          "Burundi",
          "Syria",
          "Central African Republic"
         ],
         "type": "choropleth",
         "z": [
          0.341,
          0.41,
          0.39299999999999996,
          0.34299999999999997,
          0.11800000000000001,
          0.08199999999999999,
          0.308,
          0.38,
          0.29,
          0.373,
          0.09300000000000001,
          0.226,
          0.265,
          0.128,
          0.21,
          0.316,
          0.45299999999999996,
          0.073,
          0.036000000000000004,
          0.278,
          0.05,
          0.086,
          0.183,
          0.055999999999999994,
          0.078,
          0.054000000000000006,
          0.151,
          0.034,
          0.15,
          0.182,
          0.079,
          0.132,
          0.027999999999999997,
          0.013999999999999999,
          0.042,
          0.11,
          0.07400000000000001,
          0.127,
          0.087,
          0.03,
          0.24,
          0.024,
          0.031,
          0.09699999999999999,
          0,
          0.05,
          0.16699999999999998,
          0.005,
          0.064,
          0.027000000000000003,
          0.14,
          0.096,
          0.064,
          0.057,
          0.06,
          0.114,
          0.040999999999999995,
          0.161,
          0.027999999999999997,
          0.039,
          0.022000000000000002,
          0.106,
          0.078,
          0.08,
          0.152,
          0.098,
          0.142,
          0.107,
          0.02,
          0.08,
          0.027999999999999997,
          0.006,
          0.076,
          0.025,
          0.13,
          0.182,
          0.047,
          0.027999999999999997,
          0.10099999999999999,
          0.034,
          0.073,
          0.27,
          0.027000000000000003,
          0.040999999999999995,
          0.023,
          0.08900000000000001,
          0.14300000000000002,
          0.125,
          0.14400000000000002,
          0.055,
          0.16699999999999998,
          0.055,
          0.038,
          0.004,
          0.138,
          0.027000000000000003,
          0.037000000000000005,
          0.064,
          0.067,
          0.055999999999999994,
          0.087,
          0.045,
          0.053,
          0.1,
          0.055,
          0.07200000000000001,
          0.085,
          0.08900000000000001,
          0.16399999999999998,
          0.062,
          0.047,
          0.04,
          0.01,
          0.08800000000000001,
          0.08900000000000001,
          0.08900000000000001,
          0.113,
          0.06,
          0.052000000000000005,
          0.078,
          0.09300000000000001,
          0.086,
          0.102,
          0.033,
          0.08199999999999999,
          0.11,
          0.040999999999999995,
          0.1,
          0.085,
          0.077,
          0.025,
          0.41100000000000003,
          0.147,
          0.18,
          0.141,
          0.035
         ]
        }
       ],
       "layout": {
        "geo": {
         "projection": {
          "type": "mercator"
         },
         "showframe": false
        },
        "template": {
         "data": {
          "bar": [
           {
            "error_x": {
             "color": "#2a3f5f"
            },
            "error_y": {
             "color": "#2a3f5f"
            },
            "marker": {
             "line": {
              "color": "#E5ECF6",
              "width": 0.5
             }
            },
            "type": "bar"
           }
          ],
          "barpolar": [
           {
            "marker": {
             "line": {
              "color": "#E5ECF6",
              "width": 0.5
             }
            },
            "type": "barpolar"
           }
          ],
          "carpet": [
           {
            "aaxis": {
             "endlinecolor": "#2a3f5f",
             "gridcolor": "white",
             "linecolor": "white",
             "minorgridcolor": "white",
             "startlinecolor": "#2a3f5f"
            },
            "baxis": {
             "endlinecolor": "#2a3f5f",
             "gridcolor": "white",
             "linecolor": "white",
             "minorgridcolor": "white",
             "startlinecolor": "#2a3f5f"
            },
            "type": "carpet"
           }
          ],
          "choropleth": [
           {
            "colorbar": {
             "outlinewidth": 0,
             "ticks": ""
            },
            "type": "choropleth"
           }
          ],
          "contour": [
           {
            "colorbar": {
             "outlinewidth": 0,
             "ticks": ""
            },
            "colorscale": [
             [
              0,
              "#0d0887"
             ],
             [
              0.1111111111111111,
              "#46039f"
             ],
             [
              0.2222222222222222,
              "#7201a8"
             ],
             [
              0.3333333333333333,
              "#9c179e"
             ],
             [
              0.4444444444444444,
              "#bd3786"
             ],
             [
              0.5555555555555556,
              "#d8576b"
             ],
             [
              0.6666666666666666,
              "#ed7953"
             ],
             [
              0.7777777777777778,
              "#fb9f3a"
             ],
             [
              0.8888888888888888,
              "#fdca26"
             ],
             [
              1,
              "#f0f921"
             ]
            ],
            "type": "contour"
           }
          ],
          "contourcarpet": [
           {
            "colorbar": {
             "outlinewidth": 0,
             "ticks": ""
            },
            "type": "contourcarpet"
           }
          ],
          "heatmap": [
           {
            "colorbar": {
             "outlinewidth": 0,
             "ticks": ""
            },
            "colorscale": [
             [
              0,
              "#0d0887"
             ],
             [
              0.1111111111111111,
              "#46039f"
             ],
             [
              0.2222222222222222,
              "#7201a8"
             ],
             [
              0.3333333333333333,
              "#9c179e"
             ],
             [
              0.4444444444444444,
              "#bd3786"
             ],
             [
              0.5555555555555556,
              "#d8576b"
             ],
             [
              0.6666666666666666,
              "#ed7953"
             ],
             [
              0.7777777777777778,
              "#fb9f3a"
             ],
             [
              0.8888888888888888,
              "#fdca26"
             ],
             [
              1,
              "#f0f921"
             ]
            ],
            "type": "heatmap"
           }
          ],
          "heatmapgl": [
           {
            "colorbar": {
             "outlinewidth": 0,
             "ticks": ""
            },
            "colorscale": [
             [
              0,
              "#0d0887"
             ],
             [
              0.1111111111111111,
              "#46039f"
             ],
             [
              0.2222222222222222,
              "#7201a8"
             ],
             [
              0.3333333333333333,
              "#9c179e"
             ],
             [
              0.4444444444444444,
              "#bd3786"
             ],
             [
              0.5555555555555556,
              "#d8576b"
             ],
             [
              0.6666666666666666,
              "#ed7953"
             ],
             [
              0.7777777777777778,
              "#fb9f3a"
             ],
             [
              0.8888888888888888,
              "#fdca26"
             ],
             [
              1,
              "#f0f921"
             ]
            ],
            "type": "heatmapgl"
           }
          ],
          "histogram": [
           {
            "marker": {
             "colorbar": {
              "outlinewidth": 0,
              "ticks": ""
             }
            },
            "type": "histogram"
           }
          ],
          "histogram2d": [
           {
            "colorbar": {
             "outlinewidth": 0,
             "ticks": ""
            },
            "colorscale": [
             [
              0,
              "#0d0887"
             ],
             [
              0.1111111111111111,
              "#46039f"
             ],
             [
              0.2222222222222222,
              "#7201a8"
             ],
             [
              0.3333333333333333,
              "#9c179e"
             ],
             [
              0.4444444444444444,
              "#bd3786"
             ],
             [
              0.5555555555555556,
              "#d8576b"
             ],
             [
              0.6666666666666666,
              "#ed7953"
             ],
             [
              0.7777777777777778,
              "#fb9f3a"
             ],
             [
              0.8888888888888888,
              "#fdca26"
             ],
             [
              1,
              "#f0f921"
             ]
            ],
            "type": "histogram2d"
           }
          ],
          "histogram2dcontour": [
           {
            "colorbar": {
             "outlinewidth": 0,
             "ticks": ""
            },
            "colorscale": [
             [
              0,
              "#0d0887"
             ],
             [
              0.1111111111111111,
              "#46039f"
             ],
             [
              0.2222222222222222,
              "#7201a8"
             ],
             [
              0.3333333333333333,
              "#9c179e"
             ],
             [
              0.4444444444444444,
              "#bd3786"
             ],
             [
              0.5555555555555556,
              "#d8576b"
             ],
             [
              0.6666666666666666,
              "#ed7953"
             ],
             [
              0.7777777777777778,
              "#fb9f3a"
             ],
             [
              0.8888888888888888,
              "#fdca26"
             ],
             [
              1,
              "#f0f921"
             ]
            ],
            "type": "histogram2dcontour"
           }
          ],
          "mesh3d": [
           {
            "colorbar": {
             "outlinewidth": 0,
             "ticks": ""
            },
            "type": "mesh3d"
           }
          ],
          "parcoords": [
           {
            "line": {
             "colorbar": {
              "outlinewidth": 0,
              "ticks": ""
             }
            },
            "type": "parcoords"
           }
          ],
          "pie": [
           {
            "automargin": true,
            "type": "pie"
           }
          ],
          "scatter": [
           {
            "marker": {
             "colorbar": {
              "outlinewidth": 0,
              "ticks": ""
             }
            },
            "type": "scatter"
           }
          ],
          "scatter3d": [
           {
            "line": {
             "colorbar": {
              "outlinewidth": 0,
              "ticks": ""
             }
            },
            "marker": {
             "colorbar": {
              "outlinewidth": 0,
              "ticks": ""
             }
            },
            "type": "scatter3d"
           }
          ],
          "scattercarpet": [
           {
            "marker": {
             "colorbar": {
              "outlinewidth": 0,
              "ticks": ""
             }
            },
            "type": "scattercarpet"
           }
          ],
          "scattergeo": [
           {
            "marker": {
             "colorbar": {
              "outlinewidth": 0,
              "ticks": ""
             }
            },
            "type": "scattergeo"
           }
          ],
          "scattergl": [
           {
            "marker": {
             "colorbar": {
              "outlinewidth": 0,
              "ticks": ""
             }
            },
            "type": "scattergl"
           }
          ],
          "scattermapbox": [
           {
            "marker": {
             "colorbar": {
              "outlinewidth": 0,
              "ticks": ""
             }
            },
            "type": "scattermapbox"
           }
          ],
          "scatterpolar": [
           {
            "marker": {
             "colorbar": {
              "outlinewidth": 0,
              "ticks": ""
             }
            },
            "type": "scatterpolar"
           }
          ],
          "scatterpolargl": [
           {
            "marker": {
             "colorbar": {
              "outlinewidth": 0,
              "ticks": ""
             }
            },
            "type": "scatterpolargl"
           }
          ],
          "scatterternary": [
           {
            "marker": {
             "colorbar": {
              "outlinewidth": 0,
              "ticks": ""
             }
            },
            "type": "scatterternary"
           }
          ],
          "surface": [
           {
            "colorbar": {
             "outlinewidth": 0,
             "ticks": ""
            },
            "colorscale": [
             [
              0,
              "#0d0887"
             ],
             [
              0.1111111111111111,
              "#46039f"
             ],
             [
              0.2222222222222222,
              "#7201a8"
             ],
             [
              0.3333333333333333,
              "#9c179e"
             ],
             [
              0.4444444444444444,
              "#bd3786"
             ],
             [
              0.5555555555555556,
              "#d8576b"
             ],
             [
              0.6666666666666666,
              "#ed7953"
             ],
             [
              0.7777777777777778,
              "#fb9f3a"
             ],
             [
              0.8888888888888888,
              "#fdca26"
             ],
             [
              1,
              "#f0f921"
             ]
            ],
            "type": "surface"
           }
          ],
          "table": [
           {
            "cells": {
             "fill": {
              "color": "#EBF0F8"
             },
             "line": {
              "color": "white"
             }
            },
            "header": {
             "fill": {
              "color": "#C8D4E3"
             },
             "line": {
              "color": "white"
             }
            },
            "type": "table"
           }
          ]
         },
         "layout": {
          "annotationdefaults": {
           "arrowcolor": "#2a3f5f",
           "arrowhead": 0,
           "arrowwidth": 1
          },
          "coloraxis": {
           "colorbar": {
            "outlinewidth": 0,
            "ticks": ""
           }
          },
          "colorscale": {
           "diverging": [
            [
             0,
             "#8e0152"
            ],
            [
             0.1,
             "#c51b7d"
            ],
            [
             0.2,
             "#de77ae"
            ],
            [
             0.3,
             "#f1b6da"
            ],
            [
             0.4,
             "#fde0ef"
            ],
            [
             0.5,
             "#f7f7f7"
            ],
            [
             0.6,
             "#e6f5d0"
            ],
            [
             0.7,
             "#b8e186"
            ],
            [
             0.8,
             "#7fbc41"
            ],
            [
             0.9,
             "#4d9221"
            ],
            [
             1,
             "#276419"
            ]
           ],
           "sequential": [
            [
             0,
             "#0d0887"
            ],
            [
             0.1111111111111111,
             "#46039f"
            ],
            [
             0.2222222222222222,
             "#7201a8"
            ],
            [
             0.3333333333333333,
             "#9c179e"
            ],
            [
             0.4444444444444444,
             "#bd3786"
            ],
            [
             0.5555555555555556,
             "#d8576b"
            ],
            [
             0.6666666666666666,
             "#ed7953"
            ],
            [
             0.7777777777777778,
             "#fb9f3a"
            ],
            [
             0.8888888888888888,
             "#fdca26"
            ],
            [
             1,
             "#f0f921"
            ]
           ],
           "sequentialminus": [
            [
             0,
             "#0d0887"
            ],
            [
             0.1111111111111111,
             "#46039f"
            ],
            [
             0.2222222222222222,
             "#7201a8"
            ],
            [
             0.3333333333333333,
             "#9c179e"
            ],
            [
             0.4444444444444444,
             "#bd3786"
            ],
            [
             0.5555555555555556,
             "#d8576b"
            ],
            [
             0.6666666666666666,
             "#ed7953"
            ],
            [
             0.7777777777777778,
             "#fb9f3a"
            ],
            [
             0.8888888888888888,
             "#fdca26"
            ],
            [
             1,
             "#f0f921"
            ]
           ]
          },
          "colorway": [
           "#636efa",
           "#EF553B",
           "#00cc96",
           "#ab63fa",
           "#FFA15A",
           "#19d3f3",
           "#FF6692",
           "#B6E880",
           "#FF97FF",
           "#FECB52"
          ],
          "font": {
           "color": "#2a3f5f"
          },
          "geo": {
           "bgcolor": "white",
           "lakecolor": "white",
           "landcolor": "#E5ECF6",
           "showlakes": true,
           "showland": true,
           "subunitcolor": "white"
          },
          "hoverlabel": {
           "align": "left"
          },
          "hovermode": "closest",
          "mapbox": {
           "style": "light"
          },
          "paper_bgcolor": "white",
          "plot_bgcolor": "#E5ECF6",
          "polar": {
           "angularaxis": {
            "gridcolor": "white",
            "linecolor": "white",
            "ticks": ""
           },
           "bgcolor": "#E5ECF6",
           "radialaxis": {
            "gridcolor": "white",
            "linecolor": "white",
            "ticks": ""
           }
          },
          "scene": {
           "xaxis": {
            "backgroundcolor": "#E5ECF6",
            "gridcolor": "white",
            "gridwidth": 2,
            "linecolor": "white",
            "showbackground": true,
            "ticks": "",
            "zerolinecolor": "white"
           },
           "yaxis": {
            "backgroundcolor": "#E5ECF6",
            "gridcolor": "white",
            "gridwidth": 2,
            "linecolor": "white",
            "showbackground": true,
            "ticks": "",
            "zerolinecolor": "white"
           },
           "zaxis": {
            "backgroundcolor": "#E5ECF6",
            "gridcolor": "white",
            "gridwidth": 2,
            "linecolor": "white",
            "showbackground": true,
            "ticks": "",
            "zerolinecolor": "white"
           }
          },
          "shapedefaults": {
           "line": {
            "color": "#2a3f5f"
           }
          },
          "ternary": {
           "aaxis": {
            "gridcolor": "white",
            "linecolor": "white",
            "ticks": ""
           },
           "baxis": {
            "gridcolor": "white",
            "linecolor": "white",
            "ticks": ""
           },
           "bgcolor": "#E5ECF6",
           "caxis": {
            "gridcolor": "white",
            "linecolor": "white",
            "ticks": ""
           }
          },
          "title": {
           "x": 0.05
          },
          "xaxis": {
           "automargin": true,
           "gridcolor": "white",
           "linecolor": "white",
           "ticks": "",
           "title": {
            "standoff": 15
           },
           "zerolinecolor": "white",
           "zerolinewidth": 2
          },
          "yaxis": {
           "automargin": true,
           "gridcolor": "white",
           "linecolor": "white",
           "ticks": "",
           "title": {
            "standoff": 15
           },
           "zerolinecolor": "white",
           "zerolinewidth": 2
          }
         }
        },
        "title": {
         "text": "Trust in Government"
        }
       }
      },
      "text/html": [
       "<div>\n",
       "        \n",
       "        \n",
       "            <div id=\"583f307d-d6b6-4c83-9dd3-8af0c667a450\" class=\"plotly-graph-div\" style=\"height:525px; width:100%;\"></div>\n",
       "            <script type=\"text/javascript\">\n",
       "                require([\"plotly\"], function(Plotly) {\n",
       "                    window.PLOTLYENV=window.PLOTLYENV || {};\n",
       "                    \n",
       "                if (document.getElementById(\"583f307d-d6b6-4c83-9dd3-8af0c667a450\")) {\n",
       "                    Plotly.newPlot(\n",
       "                        '583f307d-d6b6-4c83-9dd3-8af0c667a450',\n",
       "                        [{\"colorbar\": {\"title\": {\"text\": \"Trust Score\"}}, \"locations\": [\"NOR\", \"DNK\", \"FIN\", \"CHE\", \"ISL\", \"ISR\", \"CAN\", \"NZL\", \"AUS\", \"SWE\", \"CRI\", \"AUT\", \"DEU\", \"USA\", \"BEL\", \"LUX\", \"SGP\", \"MEX\", \"CZE\", \"GBR\", \"ARG\", \"BRA\", \"FRA\", \"CHL\", \"GTM\", \"PAN\", \"MLT\", \"COL\", \"URY\", \"ARE\", \"ESP\", \"SAU\", \"THA\", \"SVK\", \"LTU\", \"BHR\", \"SLV\", \"NIC\", \"ECU\", \"ITA\", \"UZB\", \"MYS\", \"RUS\", \"KWT\", \"MDA\", \"POL\", \"QAT\", \"ROU\", \"LVA\", \"PER\", \"JPN\", \"KAZ\", \"BOL\", \"SVN\", \"MUS\", \"DZA\", \"CYP\", \"EST\", \"TKM\", \"SRB\", \"HRV\", \"TUR\", \"HND\", \"PRY\", \"LBY\", \"PAK\", \"BLR\", \"PHL\", \"HUN\", \"MNE\", \"JAM\", \"BIH\", \"MAR\", \"PRT\", \"JOR\", \"AZE\", \"VEN\", \"IDN\", \"DOM\", \"GRC\", \"VNM\", \"SOM\", \"LBN\", \"NGA\", \"KGZ\", \"NPL\", \"BGD\", \"IRN\", \"TJK\", \"TUN\", \"BTN\", \"ZAF\", \"MNG\", \"BGR\", \"MOZ\", \"ALB\", \"CMR\", \"ARM\", \"EGY\", \"NAM\", \"ZMB\", \"SLE\", \"KEN\", \"ETH\", \"GAB\", \"SEN\", \"IND\", \"IRQ\", \"GEO\", \"KHM\", \"LKA\", \"GHA\", \"UKR\", \"MRT\", \"ZWE\", \"MWI\", \"BFA\", \"UGA\", \"MLI\", \"TCD\", \"LSO\", \"GIN\", \"NER\", \"LBR\", \"BEN\", \"HTI\", \"MDG\", \"BWA\", \"TGO\", \"YEM\", \"AFG\", \"RWA\", \"TZA\", \"BDI\", \"SYR\", \"CAF\"], \"text\": [\"Norway\", \"Denmark\", \"Finland\", \"Switzerland\", \"Iceland\", \"Israel\", \"Canada\", \"New Zealand\", \"Australia\", \"Sweden\", \"Costa Rica\", \"Austria\", \"Germany\", \"United States\", \"Belgium\", \"Luxembourg\", \"Singapore\", \"Mexico\", \"Czech Republic\", \"United Kingdom\", \"Argentina\", \"Brazil\", \"France\", \"Chile\", \"Guatemala\", \"Panama\", \"Malta\", \"Colombia\", \"Uruguay\", \"United Arab Emirates\", \"Spain\", \"Saudi Arabia\", \"Thailand\", \"Slovakia\", \"Lithuania\", \"Bahrain\", \"El Salvador\", \"Nicaragua\", \"Ecuador\", \"Italy\", \"Uzbekistan\", \"Malaysia\", \"Russia\", \"Kuwait\", \"Moldova\", \"Poland\", \"Qatar\", \"Romania\", \"Latvia\", \"Peru\", \"Japan\", \"Kazakhstan\", \"Bolivia\", \"Slovenia\", \"Mauritius\", \"Algeria\", \"Cyprus\", \"Estonia\", \"Turkmenistan\", \"Serbia\", \"Croatia\", \"Turkey\", \"Honduras\", \"Paraguay\", \"Libya\", \"Pakistan\", \"Belarus\", \"Philippines\", \"Hungary\", \"Montenegro\", \"Jamaica\", \"Bosnia and Herzegovina\", \"Morocco\", \"Portugal\", \"Jordan\", \"Azerbaijan\", \"Venezuela\", \"Indonesia\", \"Dominican Republic\", \"Greece\", \"Vietnam\", \"Somalia\", \"Lebanon\", \"Nigeria\", \"Kyrgyzstan\", \"Nepal\", \"Bangladesh\", \"Iran\", \"Tajikistan\", \"Tunisia\", \"Bhutan\", \"South Africa\", \"Mongolia\", \"Bulgaria\", \"Mozambique\", \"Albania\", \"Cameroon\", \"Armenia\", \"Egypt\", \"Namibia\", \"Zambia\", \"Sierra Leone\", \"Kenya\", \"Ethiopia\", \"Gabon\", \"Senegal\", \"India\", \"Iraq\", \"Georgia\", \"Cambodia\", \"Sri Lanka\", \"Ghana\", \"Ukraine\", \"Mauritania\", \"Zimbabwe\", \"Malawi\", \"Burkina Faso\", \"Uganda\", \"Mali\", \"Chad\", \"Lesotho\", \"Guinea\", \"Niger\", \"Liberia\", \"Benin\", \"Haiti\", \"Madagascar\", \"Botswana\", \"Togo\", \"Yemen\", \"Afghanistan\", \"Rwanda\", \"Tanzania\", \"Burundi\", \"Syria\", \"Central African Republic\"], \"type\": \"choropleth\", \"z\": [0.341, 0.41, 0.39299999999999996, 0.34299999999999997, 0.11800000000000001, 0.08199999999999999, 0.308, 0.38, 0.29, 0.373, 0.09300000000000001, 0.226, 0.265, 0.128, 0.21, 0.316, 0.45299999999999996, 0.073, 0.036000000000000004, 0.278, 0.05, 0.086, 0.183, 0.055999999999999994, 0.078, 0.054000000000000006, 0.151, 0.034, 0.15, 0.182, 0.079, 0.132, 0.027999999999999997, 0.013999999999999999, 0.042, 0.11, 0.07400000000000001, 0.127, 0.087, 0.03, 0.24, 0.024, 0.031, 0.09699999999999999, 0.0, 0.05, 0.16699999999999998, 0.005, 0.064, 0.027000000000000003, 0.14, 0.096, 0.064, 0.057, 0.06, 0.114, 0.040999999999999995, 0.161, 0.027999999999999997, 0.039, 0.022000000000000002, 0.106, 0.078, 0.08, 0.152, 0.098, 0.142, 0.107, 0.02, 0.08, 0.027999999999999997, 0.006, 0.076, 0.025, 0.13, 0.182, 0.047, 0.027999999999999997, 0.10099999999999999, 0.034, 0.073, 0.27, 0.027000000000000003, 0.040999999999999995, 0.023, 0.08900000000000001, 0.14300000000000002, 0.125, 0.14400000000000002, 0.055, 0.16699999999999998, 0.055, 0.038, 0.004, 0.138, 0.027000000000000003, 0.037000000000000005, 0.064, 0.067, 0.055999999999999994, 0.087, 0.045, 0.053, 0.1, 0.055, 0.07200000000000001, 0.085, 0.08900000000000001, 0.16399999999999998, 0.062, 0.047, 0.04, 0.01, 0.08800000000000001, 0.08900000000000001, 0.08900000000000001, 0.113, 0.06, 0.052000000000000005, 0.078, 0.09300000000000001, 0.086, 0.102, 0.033, 0.08199999999999999, 0.11, 0.040999999999999995, 0.1, 0.085, 0.077, 0.025, 0.41100000000000003, 0.147, 0.18, 0.141, 0.035]}],\n",
       "                        {\"geo\": {\"projection\": {\"type\": \"mercator\"}, \"showframe\": false}, \"template\": {\"data\": {\"bar\": [{\"error_x\": {\"color\": \"#2a3f5f\"}, \"error_y\": {\"color\": \"#2a3f5f\"}, \"marker\": {\"line\": {\"color\": \"#E5ECF6\", \"width\": 0.5}}, \"type\": \"bar\"}], \"barpolar\": [{\"marker\": {\"line\": {\"color\": \"#E5ECF6\", \"width\": 0.5}}, \"type\": \"barpolar\"}], \"carpet\": [{\"aaxis\": {\"endlinecolor\": \"#2a3f5f\", \"gridcolor\": \"white\", \"linecolor\": \"white\", \"minorgridcolor\": \"white\", \"startlinecolor\": \"#2a3f5f\"}, \"baxis\": {\"endlinecolor\": \"#2a3f5f\", \"gridcolor\": \"white\", \"linecolor\": \"white\", \"minorgridcolor\": \"white\", \"startlinecolor\": \"#2a3f5f\"}, \"type\": \"carpet\"}], \"choropleth\": [{\"colorbar\": {\"outlinewidth\": 0, \"ticks\": \"\"}, \"type\": \"choropleth\"}], \"contour\": [{\"colorbar\": {\"outlinewidth\": 0, \"ticks\": \"\"}, \"colorscale\": [[0.0, \"#0d0887\"], [0.1111111111111111, \"#46039f\"], [0.2222222222222222, \"#7201a8\"], [0.3333333333333333, \"#9c179e\"], [0.4444444444444444, \"#bd3786\"], [0.5555555555555556, \"#d8576b\"], [0.6666666666666666, \"#ed7953\"], [0.7777777777777778, \"#fb9f3a\"], [0.8888888888888888, \"#fdca26\"], [1.0, \"#f0f921\"]], \"type\": \"contour\"}], \"contourcarpet\": [{\"colorbar\": {\"outlinewidth\": 0, \"ticks\": \"\"}, \"type\": \"contourcarpet\"}], \"heatmap\": [{\"colorbar\": {\"outlinewidth\": 0, \"ticks\": \"\"}, \"colorscale\": [[0.0, \"#0d0887\"], [0.1111111111111111, \"#46039f\"], [0.2222222222222222, \"#7201a8\"], [0.3333333333333333, \"#9c179e\"], [0.4444444444444444, \"#bd3786\"], [0.5555555555555556, \"#d8576b\"], [0.6666666666666666, \"#ed7953\"], [0.7777777777777778, \"#fb9f3a\"], [0.8888888888888888, \"#fdca26\"], [1.0, \"#f0f921\"]], \"type\": \"heatmap\"}], \"heatmapgl\": [{\"colorbar\": {\"outlinewidth\": 0, \"ticks\": \"\"}, \"colorscale\": [[0.0, \"#0d0887\"], [0.1111111111111111, \"#46039f\"], [0.2222222222222222, \"#7201a8\"], [0.3333333333333333, \"#9c179e\"], [0.4444444444444444, \"#bd3786\"], [0.5555555555555556, \"#d8576b\"], [0.6666666666666666, \"#ed7953\"], [0.7777777777777778, \"#fb9f3a\"], [0.8888888888888888, \"#fdca26\"], [1.0, \"#f0f921\"]], \"type\": \"heatmapgl\"}], \"histogram\": [{\"marker\": {\"colorbar\": {\"outlinewidth\": 0, \"ticks\": \"\"}}, \"type\": \"histogram\"}], \"histogram2d\": [{\"colorbar\": {\"outlinewidth\": 0, \"ticks\": \"\"}, \"colorscale\": [[0.0, \"#0d0887\"], [0.1111111111111111, \"#46039f\"], [0.2222222222222222, \"#7201a8\"], [0.3333333333333333, \"#9c179e\"], [0.4444444444444444, \"#bd3786\"], [0.5555555555555556, \"#d8576b\"], [0.6666666666666666, \"#ed7953\"], [0.7777777777777778, \"#fb9f3a\"], [0.8888888888888888, \"#fdca26\"], [1.0, \"#f0f921\"]], \"type\": \"histogram2d\"}], \"histogram2dcontour\": [{\"colorbar\": {\"outlinewidth\": 0, \"ticks\": \"\"}, \"colorscale\": [[0.0, \"#0d0887\"], [0.1111111111111111, \"#46039f\"], [0.2222222222222222, \"#7201a8\"], [0.3333333333333333, \"#9c179e\"], [0.4444444444444444, \"#bd3786\"], [0.5555555555555556, \"#d8576b\"], [0.6666666666666666, \"#ed7953\"], [0.7777777777777778, \"#fb9f3a\"], [0.8888888888888888, \"#fdca26\"], [1.0, \"#f0f921\"]], \"type\": \"histogram2dcontour\"}], \"mesh3d\": [{\"colorbar\": {\"outlinewidth\": 0, \"ticks\": \"\"}, \"type\": \"mesh3d\"}], \"parcoords\": [{\"line\": {\"colorbar\": {\"outlinewidth\": 0, \"ticks\": \"\"}}, \"type\": \"parcoords\"}], \"pie\": [{\"automargin\": true, \"type\": \"pie\"}], \"scatter\": [{\"marker\": {\"colorbar\": {\"outlinewidth\": 0, \"ticks\": \"\"}}, \"type\": \"scatter\"}], \"scatter3d\": [{\"line\": {\"colorbar\": {\"outlinewidth\": 0, \"ticks\": \"\"}}, \"marker\": {\"colorbar\": {\"outlinewidth\": 0, \"ticks\": \"\"}}, \"type\": \"scatter3d\"}], \"scattercarpet\": [{\"marker\": {\"colorbar\": {\"outlinewidth\": 0, \"ticks\": \"\"}}, \"type\": \"scattercarpet\"}], \"scattergeo\": [{\"marker\": {\"colorbar\": {\"outlinewidth\": 0, \"ticks\": \"\"}}, \"type\": \"scattergeo\"}], \"scattergl\": [{\"marker\": {\"colorbar\": {\"outlinewidth\": 0, \"ticks\": \"\"}}, \"type\": \"scattergl\"}], \"scattermapbox\": [{\"marker\": {\"colorbar\": {\"outlinewidth\": 0, \"ticks\": \"\"}}, \"type\": \"scattermapbox\"}], \"scatterpolar\": [{\"marker\": {\"colorbar\": {\"outlinewidth\": 0, \"ticks\": \"\"}}, \"type\": \"scatterpolar\"}], \"scatterpolargl\": [{\"marker\": {\"colorbar\": {\"outlinewidth\": 0, \"ticks\": \"\"}}, \"type\": \"scatterpolargl\"}], \"scatterternary\": [{\"marker\": {\"colorbar\": {\"outlinewidth\": 0, \"ticks\": \"\"}}, \"type\": \"scatterternary\"}], \"surface\": [{\"colorbar\": {\"outlinewidth\": 0, \"ticks\": \"\"}, \"colorscale\": [[0.0, \"#0d0887\"], [0.1111111111111111, \"#46039f\"], [0.2222222222222222, \"#7201a8\"], [0.3333333333333333, \"#9c179e\"], [0.4444444444444444, \"#bd3786\"], [0.5555555555555556, \"#d8576b\"], [0.6666666666666666, \"#ed7953\"], [0.7777777777777778, \"#fb9f3a\"], [0.8888888888888888, \"#fdca26\"], [1.0, \"#f0f921\"]], \"type\": \"surface\"}], \"table\": [{\"cells\": {\"fill\": {\"color\": \"#EBF0F8\"}, \"line\": {\"color\": \"white\"}}, \"header\": {\"fill\": {\"color\": \"#C8D4E3\"}, \"line\": {\"color\": \"white\"}}, \"type\": \"table\"}]}, \"layout\": {\"annotationdefaults\": {\"arrowcolor\": \"#2a3f5f\", \"arrowhead\": 0, \"arrowwidth\": 1}, \"coloraxis\": {\"colorbar\": {\"outlinewidth\": 0, \"ticks\": \"\"}}, \"colorscale\": {\"diverging\": [[0, \"#8e0152\"], [0.1, \"#c51b7d\"], [0.2, \"#de77ae\"], [0.3, \"#f1b6da\"], [0.4, \"#fde0ef\"], [0.5, \"#f7f7f7\"], [0.6, \"#e6f5d0\"], [0.7, \"#b8e186\"], [0.8, \"#7fbc41\"], [0.9, \"#4d9221\"], [1, \"#276419\"]], \"sequential\": [[0.0, \"#0d0887\"], [0.1111111111111111, \"#46039f\"], [0.2222222222222222, \"#7201a8\"], [0.3333333333333333, \"#9c179e\"], [0.4444444444444444, \"#bd3786\"], [0.5555555555555556, \"#d8576b\"], [0.6666666666666666, \"#ed7953\"], [0.7777777777777778, \"#fb9f3a\"], [0.8888888888888888, \"#fdca26\"], [1.0, \"#f0f921\"]], \"sequentialminus\": [[0.0, \"#0d0887\"], [0.1111111111111111, \"#46039f\"], [0.2222222222222222, \"#7201a8\"], [0.3333333333333333, \"#9c179e\"], [0.4444444444444444, \"#bd3786\"], [0.5555555555555556, \"#d8576b\"], [0.6666666666666666, \"#ed7953\"], [0.7777777777777778, \"#fb9f3a\"], [0.8888888888888888, \"#fdca26\"], [1.0, \"#f0f921\"]]}, \"colorway\": [\"#636efa\", \"#EF553B\", \"#00cc96\", \"#ab63fa\", \"#FFA15A\", \"#19d3f3\", \"#FF6692\", \"#B6E880\", \"#FF97FF\", \"#FECB52\"], \"font\": {\"color\": \"#2a3f5f\"}, \"geo\": {\"bgcolor\": \"white\", \"lakecolor\": \"white\", \"landcolor\": \"#E5ECF6\", \"showlakes\": true, \"showland\": true, \"subunitcolor\": \"white\"}, \"hoverlabel\": {\"align\": \"left\"}, \"hovermode\": \"closest\", \"mapbox\": {\"style\": \"light\"}, \"paper_bgcolor\": \"white\", \"plot_bgcolor\": \"#E5ECF6\", \"polar\": {\"angularaxis\": {\"gridcolor\": \"white\", \"linecolor\": \"white\", \"ticks\": \"\"}, \"bgcolor\": \"#E5ECF6\", \"radialaxis\": {\"gridcolor\": \"white\", \"linecolor\": \"white\", \"ticks\": \"\"}}, \"scene\": {\"xaxis\": {\"backgroundcolor\": \"#E5ECF6\", \"gridcolor\": \"white\", \"gridwidth\": 2, \"linecolor\": \"white\", \"showbackground\": true, \"ticks\": \"\", \"zerolinecolor\": \"white\"}, \"yaxis\": {\"backgroundcolor\": \"#E5ECF6\", \"gridcolor\": \"white\", \"gridwidth\": 2, \"linecolor\": \"white\", \"showbackground\": true, \"ticks\": \"\", \"zerolinecolor\": \"white\"}, \"zaxis\": {\"backgroundcolor\": \"#E5ECF6\", \"gridcolor\": \"white\", \"gridwidth\": 2, \"linecolor\": \"white\", \"showbackground\": true, \"ticks\": \"\", \"zerolinecolor\": \"white\"}}, \"shapedefaults\": {\"line\": {\"color\": \"#2a3f5f\"}}, \"ternary\": {\"aaxis\": {\"gridcolor\": \"white\", \"linecolor\": \"white\", \"ticks\": \"\"}, \"baxis\": {\"gridcolor\": \"white\", \"linecolor\": \"white\", \"ticks\": \"\"}, \"bgcolor\": \"#E5ECF6\", \"caxis\": {\"gridcolor\": \"white\", \"linecolor\": \"white\", \"ticks\": \"\"}}, \"title\": {\"x\": 0.05}, \"xaxis\": {\"automargin\": true, \"gridcolor\": \"white\", \"linecolor\": \"white\", \"ticks\": \"\", \"title\": {\"standoff\": 15}, \"zerolinecolor\": \"white\", \"zerolinewidth\": 2}, \"yaxis\": {\"automargin\": true, \"gridcolor\": \"white\", \"linecolor\": \"white\", \"ticks\": \"\", \"title\": {\"standoff\": 15}, \"zerolinecolor\": \"white\", \"zerolinewidth\": 2}}}, \"title\": {\"text\": \"Trust in Government\"}},\n",
       "                        {\"responsive\": true}\n",
       "                    ).then(function(){\n",
       "                            \n",
       "var gd = document.getElementById('583f307d-d6b6-4c83-9dd3-8af0c667a450');\n",
       "var x = new MutationObserver(function (mutations, observer) {{\n",
       "        var display = window.getComputedStyle(gd).display;\n",
       "        if (!display || display === 'none') {{\n",
       "            console.log([gd, 'removed!']);\n",
       "            Plotly.purge(gd);\n",
       "            observer.disconnect();\n",
       "        }}\n",
       "}});\n",
       "\n",
       "// Listen for the removal of the full notebook cells\n",
       "var notebookContainer = gd.closest('#notebook-container');\n",
       "if (notebookContainer) {{\n",
       "    x.observe(notebookContainer, {childList: true});\n",
       "}}\n",
       "\n",
       "// Listen for the clearing of the current output cell\n",
       "var outputEl = gd.closest('.output');\n",
       "if (outputEl) {{\n",
       "    x.observe(outputEl, {childList: true});\n",
       "}}\n",
       "\n",
       "                        })\n",
       "                };\n",
       "                });\n",
       "            </script>\n",
       "        </div>"
      ]
     },
     "metadata": {},
     "output_type": "display_data"
    }
   ],
   "source": [
    "world_trust = dict(type = 'choropleth', locations = world['CODE'], z = world['Trust'], \n",
    "                      text = world['Country'], colorbar = {'title' : 'Trust Score'},)\n",
    "\n",
    "layout = dict(title = 'Trust in Government', geo = dict(showframe = False, projection = {'type':'mercator'}))\n",
    "\n",
    "choromap2 = go.Figure(data = [world_trust], layout = layout)\n",
    "\n",
    "iplot(choromap2)"
   ]
  },
  {
   "cell_type": "markdown",
   "metadata": {},
   "source": [
    "## Has Overall Happiness Increased?"
   ]
  },
  {
   "cell_type": "markdown",
   "metadata": {},
   "source": [
    "### Creating the Combined Years DataFrame"
   ]
  },
  {
   "cell_type": "code",
   "execution_count": 36,
   "metadata": {},
   "outputs": [],
   "source": [
    "world['Year'] = 2019\n",
    "df2015['Year'] = 2015"
   ]
  },
  {
   "cell_type": "code",
   "execution_count": 37,
   "metadata": {},
   "outputs": [],
   "source": [
    "cols = ['Country','Score','Year']\n",
    "df_2019 = world[cols]\n",
    "df_2015 = df2015[cols]"
   ]
  },
  {
   "cell_type": "code",
   "execution_count": 38,
   "metadata": {},
   "outputs": [
    {
     "data": {
      "text/html": [
       "<div>\n",
       "<style scoped>\n",
       "    .dataframe tbody tr th:only-of-type {\n",
       "        vertical-align: middle;\n",
       "    }\n",
       "\n",
       "    .dataframe tbody tr th {\n",
       "        vertical-align: top;\n",
       "    }\n",
       "\n",
       "    .dataframe thead th {\n",
       "        text-align: right;\n",
       "    }\n",
       "</style>\n",
       "<table border=\"1\" class=\"dataframe\">\n",
       "  <thead>\n",
       "    <tr style=\"text-align: right;\">\n",
       "      <th></th>\n",
       "      <th>Country</th>\n",
       "      <th>Score</th>\n",
       "      <th>Year</th>\n",
       "    </tr>\n",
       "  </thead>\n",
       "  <tbody>\n",
       "    <tr>\n",
       "      <td>0</td>\n",
       "      <td>Norway</td>\n",
       "      <td>7.590027</td>\n",
       "      <td>2019</td>\n",
       "    </tr>\n",
       "    <tr>\n",
       "      <td>1</td>\n",
       "      <td>Denmark</td>\n",
       "      <td>7.519707</td>\n",
       "      <td>2019</td>\n",
       "    </tr>\n",
       "    <tr>\n",
       "      <td>2</td>\n",
       "      <td>Finland</td>\n",
       "      <td>7.485182</td>\n",
       "      <td>2019</td>\n",
       "    </tr>\n",
       "    <tr>\n",
       "      <td>3</td>\n",
       "      <td>Switzerland</td>\n",
       "      <td>7.484716</td>\n",
       "      <td>2019</td>\n",
       "    </tr>\n",
       "    <tr>\n",
       "      <td>4</td>\n",
       "      <td>Iceland</td>\n",
       "      <td>7.415715</td>\n",
       "      <td>2019</td>\n",
       "    </tr>\n",
       "  </tbody>\n",
       "</table>\n",
       "</div>"
      ],
      "text/plain": [
       "       Country     Score  Year\n",
       "0       Norway  7.590027  2019\n",
       "1      Denmark  7.519707  2019\n",
       "2      Finland  7.485182  2019\n",
       "3  Switzerland  7.484716  2019\n",
       "4      Iceland  7.415715  2019"
      ]
     },
     "execution_count": 38,
     "metadata": {},
     "output_type": "execute_result"
    }
   ],
   "source": [
    "combined_years = pd.concat([df_2019, df_2015])\n",
    "combined_years.head()"
   ]
  },
  {
   "cell_type": "markdown",
   "metadata": {},
   "source": [
    "### Happiness Score Boxplot\n",
    "We can see a slight increase in the median from 2015 and there seems to be a little more concentration in 50% of the countries (narrower margin in the Interquartile Range). But the whiskers (both minimum and maximum) seem to be a little longer depicting some countries Happiness is improving, whereas others are actually decreasing..."
   ]
  },
  {
   "cell_type": "code",
   "execution_count": 39,
   "metadata": {},
   "outputs": [
    {
     "data": {
      "text/plain": [
       "<matplotlib.axes._subplots.AxesSubplot at 0x1a227f9310>"
      ]
     },
     "execution_count": 39,
     "metadata": {},
     "output_type": "execute_result"
    },
    {
     "data": {
      "image/png": "[encoded data removed]",
      "text/plain": [
       "<Figure size 432x288 with 1 Axes>"
      ]
     },
     "metadata": {},
     "output_type": "display_data"
    }
   ],
   "source": [
    "sns.set_style('whitegrid')\n",
    "sns.boxplot(x = 'Year', y = 'Score', data = combined_years)"
   ]
  },
  {
   "cell_type": "markdown",
   "metadata": {},
   "source": [
    "### One Final Look at the Happiness Rankings\n",
    "Europe has the top 5 ranked countries all with Social Support being their top contributor to their Happiness Score. Seems as though the Nordic region has a strong sense of community and support from family and neighbors.  "
   ]
  },
  {
   "cell_type": "code",
   "execution_count": 40,
   "metadata": {},
   "outputs": [
    {
     "data": {
      "text/html": [
       "<div>\n",
       "<style scoped>\n",
       "    .dataframe tbody tr th:only-of-type {\n",
       "        vertical-align: middle;\n",
       "    }\n",
       "\n",
       "    .dataframe tbody tr th {\n",
       "        vertical-align: top;\n",
       "    }\n",
       "\n",
       "    .dataframe thead th {\n",
       "        text-align: right;\n",
       "    }\n",
       "</style>\n",
       "<table border=\"1\" class=\"dataframe\">\n",
       "  <thead>\n",
       "    <tr style=\"text-align: right;\">\n",
       "      <th></th>\n",
       "      <th>Country</th>\n",
       "      <th>GDP</th>\n",
       "      <th>Soc_Support</th>\n",
       "      <th>Life_Exp</th>\n",
       "      <th>Freedom</th>\n",
       "      <th>Generosity</th>\n",
       "      <th>Trust</th>\n",
       "      <th>Dys_Res</th>\n",
       "      <th>CODE</th>\n",
       "      <th>Score</th>\n",
       "      <th>Rank</th>\n",
       "      <th>Continent</th>\n",
       "      <th>Year</th>\n",
       "    </tr>\n",
       "  </thead>\n",
       "  <tbody>\n",
       "    <tr>\n",
       "      <td>0</td>\n",
       "      <td>Norway</td>\n",
       "      <td>1.488</td>\n",
       "      <td>1.582</td>\n",
       "      <td>1.028</td>\n",
       "      <td>0.603</td>\n",
       "      <td>0.271</td>\n",
       "      <td>0.341</td>\n",
       "      <td>2.277027</td>\n",
       "      <td>NOR</td>\n",
       "      <td>7.590027</td>\n",
       "      <td>1</td>\n",
       "      <td>Europe</td>\n",
       "      <td>2019</td>\n",
       "    </tr>\n",
       "    <tr>\n",
       "      <td>1</td>\n",
       "      <td>Denmark</td>\n",
       "      <td>1.383</td>\n",
       "      <td>1.573</td>\n",
       "      <td>0.996</td>\n",
       "      <td>0.592</td>\n",
       "      <td>0.252</td>\n",
       "      <td>0.410</td>\n",
       "      <td>2.313707</td>\n",
       "      <td>DNK</td>\n",
       "      <td>7.519707</td>\n",
       "      <td>2</td>\n",
       "      <td>Europe</td>\n",
       "      <td>2019</td>\n",
       "    </tr>\n",
       "    <tr>\n",
       "      <td>2</td>\n",
       "      <td>Finland</td>\n",
       "      <td>1.340</td>\n",
       "      <td>1.587</td>\n",
       "      <td>0.986</td>\n",
       "      <td>0.596</td>\n",
       "      <td>0.153</td>\n",
       "      <td>0.393</td>\n",
       "      <td>2.430182</td>\n",
       "      <td>FIN</td>\n",
       "      <td>7.485182</td>\n",
       "      <td>3</td>\n",
       "      <td>Europe</td>\n",
       "      <td>2019</td>\n",
       "    </tr>\n",
       "    <tr>\n",
       "      <td>3</td>\n",
       "      <td>Switzerland</td>\n",
       "      <td>1.452</td>\n",
       "      <td>1.526</td>\n",
       "      <td>1.052</td>\n",
       "      <td>0.572</td>\n",
       "      <td>0.263</td>\n",
       "      <td>0.343</td>\n",
       "      <td>2.276716</td>\n",
       "      <td>CHE</td>\n",
       "      <td>7.484716</td>\n",
       "      <td>4</td>\n",
       "      <td>Europe</td>\n",
       "      <td>2019</td>\n",
       "    </tr>\n",
       "    <tr>\n",
       "      <td>4</td>\n",
       "      <td>Iceland</td>\n",
       "      <td>1.380</td>\n",
       "      <td>1.624</td>\n",
       "      <td>1.026</td>\n",
       "      <td>0.591</td>\n",
       "      <td>0.354</td>\n",
       "      <td>0.118</td>\n",
       "      <td>2.322715</td>\n",
       "      <td>ISL</td>\n",
       "      <td>7.415715</td>\n",
       "      <td>5</td>\n",
       "      <td>Europe</td>\n",
       "      <td>2019</td>\n",
       "    </tr>\n",
       "    <tr>\n",
       "      <td>...</td>\n",
       "      <td>...</td>\n",
       "      <td>...</td>\n",
       "      <td>...</td>\n",
       "      <td>...</td>\n",
       "      <td>...</td>\n",
       "      <td>...</td>\n",
       "      <td>...</td>\n",
       "      <td>...</td>\n",
       "      <td>...</td>\n",
       "      <td>...</td>\n",
       "      <td>...</td>\n",
       "      <td>...</td>\n",
       "      <td>...</td>\n",
       "    </tr>\n",
       "    <tr>\n",
       "      <td>131</td>\n",
       "      <td>Rwanda</td>\n",
       "      <td>0.359</td>\n",
       "      <td>0.711</td>\n",
       "      <td>0.614</td>\n",
       "      <td>0.555</td>\n",
       "      <td>0.217</td>\n",
       "      <td>0.411</td>\n",
       "      <td>0.540061</td>\n",
       "      <td>RWA</td>\n",
       "      <td>3.407061</td>\n",
       "      <td>136</td>\n",
       "      <td>Africa</td>\n",
       "      <td>2019</td>\n",
       "    </tr>\n",
       "    <tr>\n",
       "      <td>132</td>\n",
       "      <td>Tanzania</td>\n",
       "      <td>0.476</td>\n",
       "      <td>0.885</td>\n",
       "      <td>0.499</td>\n",
       "      <td>0.417</td>\n",
       "      <td>0.276</td>\n",
       "      <td>0.147</td>\n",
       "      <td>0.621130</td>\n",
       "      <td>TZA</td>\n",
       "      <td>3.321130</td>\n",
       "      <td>138</td>\n",
       "      <td>Africa</td>\n",
       "      <td>2019</td>\n",
       "    </tr>\n",
       "    <tr>\n",
       "      <td>133</td>\n",
       "      <td>Burundi</td>\n",
       "      <td>0.046</td>\n",
       "      <td>0.447</td>\n",
       "      <td>0.380</td>\n",
       "      <td>0.220</td>\n",
       "      <td>0.176</td>\n",
       "      <td>0.180</td>\n",
       "      <td>1.683024</td>\n",
       "      <td>BDI</td>\n",
       "      <td>3.132024</td>\n",
       "      <td>139</td>\n",
       "      <td>Africa</td>\n",
       "      <td>2019</td>\n",
       "    </tr>\n",
       "    <tr>\n",
       "      <td>134</td>\n",
       "      <td>Syria</td>\n",
       "      <td>0.619</td>\n",
       "      <td>0.378</td>\n",
       "      <td>0.440</td>\n",
       "      <td>0.013</td>\n",
       "      <td>0.331</td>\n",
       "      <td>0.141</td>\n",
       "      <td>1.061574</td>\n",
       "      <td>SYR</td>\n",
       "      <td>2.983574</td>\n",
       "      <td>140</td>\n",
       "      <td>Asia</td>\n",
       "      <td>2019</td>\n",
       "    </tr>\n",
       "    <tr>\n",
       "      <td>135</td>\n",
       "      <td>Central African Republic</td>\n",
       "      <td>0.026</td>\n",
       "      <td>0.000</td>\n",
       "      <td>0.105</td>\n",
       "      <td>0.225</td>\n",
       "      <td>0.235</td>\n",
       "      <td>0.035</td>\n",
       "      <td>2.066005</td>\n",
       "      <td>CAF</td>\n",
       "      <td>2.692005</td>\n",
       "      <td>141</td>\n",
       "      <td>Africa</td>\n",
       "      <td>2019</td>\n",
       "    </tr>\n",
       "  </tbody>\n",
       "</table>\n",
       "<p>136 rows × 13 columns</p>\n",
       "</div>"
      ],
      "text/plain": [
       "                      Country    GDP  Soc_Support  Life_Exp  Freedom  \\\n",
       "0                      Norway  1.488        1.582     1.028    0.603   \n",
       "1                     Denmark  1.383        1.573     0.996    0.592   \n",
       "2                     Finland  1.340        1.587     0.986    0.596   \n",
       "3                 Switzerland  1.452        1.526     1.052    0.572   \n",
       "4                     Iceland  1.380        1.624     1.026    0.591   \n",
       "..                        ...    ...          ...       ...      ...   \n",
       "131                    Rwanda  0.359        0.711     0.614    0.555   \n",
       "132                  Tanzania  0.476        0.885     0.499    0.417   \n",
       "133                   Burundi  0.046        0.447     0.380    0.220   \n",
       "134                     Syria  0.619        0.378     0.440    0.013   \n",
       "135  Central African Republic  0.026        0.000     0.105    0.225   \n",
       "\n",
       "     Generosity  Trust   Dys_Res CODE     Score  Rank Continent  Year  \n",
       "0         0.271  0.341  2.277027  NOR  7.590027     1    Europe  2019  \n",
       "1         0.252  0.410  2.313707  DNK  7.519707     2    Europe  2019  \n",
       "2         0.153  0.393  2.430182  FIN  7.485182     3    Europe  2019  \n",
       "3         0.263  0.343  2.276716  CHE  7.484716     4    Europe  2019  \n",
       "4         0.354  0.118  2.322715  ISL  7.415715     5    Europe  2019  \n",
       "..          ...    ...       ...  ...       ...   ...       ...   ...  \n",
       "131       0.217  0.411  0.540061  RWA  3.407061   136    Africa  2019  \n",
       "132       0.276  0.147  0.621130  TZA  3.321130   138    Africa  2019  \n",
       "133       0.176  0.180  1.683024  BDI  3.132024   139    Africa  2019  \n",
       "134       0.331  0.141  1.061574  SYR  2.983574   140      Asia  2019  \n",
       "135       0.235  0.035  2.066005  CAF  2.692005   141    Africa  2019  \n",
       "\n",
       "[136 rows x 13 columns]"
      ]
     },
     "execution_count": 40,
     "metadata": {},
     "output_type": "execute_result"
    }
   ],
   "source": [
    "world"
   ]
  },
  {
   "cell_type": "markdown",
   "metadata": {},
   "source": [
    "### Factors Mostly Correlated\n",
    "Because the factors are perfectly linear with Score (Score is just the added values of each factor), this correlation matrix doesn't tell us much regarding what factor has a better influence on the Score. But, it can show us correlations with other factors. <br> <br>\n",
    "For instance, it looks like Social Support is highly correalted with Life Expectancy. Maybe because of the support from family and the community, the citizens tend to have a stronger backing which could include money for medical emergencies or overall mental health. <br> <br>\n",
    "Another observation is Trust has a decent correlation with Freedom, which can imply that citizens who have more freedom in their country would tend to trust that their government is providing them the necessary resources to succeed. "
   ]
  },
  {
   "cell_type": "code",
   "execution_count": 41,
   "metadata": {},
   "outputs": [
    {
     "data": {
      "text/plain": [
       "<matplotlib.axes._subplots.AxesSubplot at 0x1a2275ccd0>"
      ]
     },
     "execution_count": 41,
     "metadata": {},
     "output_type": "execute_result"
    },
    {
     "data": {
      "image/png": "[encoded data removed]",
      "text/plain": [
       "<Figure size 432x288 with 2 Axes>"
      ]
     },
     "metadata": {},
     "output_type": "display_data"
    }
   ],
   "source": [
    "sns.heatmap(world.corr(), cmap = 'YlGnBu')"
   ]
  },
  {
   "cell_type": "markdown",
   "metadata": {},
   "source": [
    "## Conclusion\n",
    "This was a very interesting dataset to work with, especially since it is an official report released by the United Nations every year. By analyzing this data, countries can see areas they can improve in to better develop their communities and the overall mental health of their citizens. It was good see overall Happiness has increased since 2015, and I hope this trend continues. "
   ]
  }
 ],
 "metadata": {
  "kernelspec": {
   "display_name": "Python 3",
   "language": "python",
   "name": "python3"
  },
  "language_info": {
   "codemirror_mode": {
    "name": "ipython",
    "version": 3
   },
   "file_extension": ".py",
   "mimetype": "text/x-python",
   "name": "python",
   "nbconvert_exporter": "python",
   "pygments_lexer": "ipython3",
   "version": "3.7.4"
  }
 },
 "nbformat": 4,
 "nbformat_minor": 2
}
